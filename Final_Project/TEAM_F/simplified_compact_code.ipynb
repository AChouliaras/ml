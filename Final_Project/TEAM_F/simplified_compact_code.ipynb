{
 "cells": [
  {
   "cell_type": "markdown",
   "metadata": {},
   "source": [
    "Team F\n",
    "\n",
    "Chouliaras Andreas 2143\n",
    "Pappas Apostolos 2109\n",
    "\n",
    "Malicious url detection using Ensemble methods\n",
    "\n",
    "This notebook contains just the code, as simple as possible. Please refer to the report to understand it further.\n",
    "\n",
    "It contains the models we kept and any algorithms that wasn't good enough to keep were discarded (SVM, Gausian NB, Bag of Words etc)."
   ]
  },
  {
   "cell_type": "code",
   "execution_count": 8,
   "metadata": {
    "ExecuteTime": {
     "end_time": "2019-05-22T13:16:31.144715Z",
     "start_time": "2019-05-22T13:16:31.141696Z"
    }
   },
   "outputs": [],
   "source": [
    "import pandas as pd\n",
    "import numpy as np\n",
    "import random\n",
    "from sklearn.feature_extraction.text import CountVectorizer\n",
    "from sklearn.feature_extraction.text import TfidfVectorizer\n",
    "from sklearn.linear_model import LogisticRegression\n",
    "from sklearn.model_selection import train_test_split"
   ]
  },
  {
   "cell_type": "code",
   "execution_count": 9,
   "metadata": {
    "ExecuteTime": {
     "end_time": "2019-05-22T13:16:31.949930Z",
     "start_time": "2019-05-22T13:16:31.499138Z"
    }
   },
   "outputs": [
    {
     "data": {
      "text/html": [
       "<div>\n",
       "<style scoped>\n",
       "    .dataframe tbody tr th:only-of-type {\n",
       "        vertical-align: middle;\n",
       "    }\n",
       "\n",
       "    .dataframe tbody tr th {\n",
       "        vertical-align: top;\n",
       "    }\n",
       "\n",
       "    .dataframe thead th {\n",
       "        text-align: right;\n",
       "    }\n",
       "</style>\n",
       "<table border=\"1\" class=\"dataframe\">\n",
       "  <thead>\n",
       "    <tr style=\"text-align: right;\">\n",
       "      <th></th>\n",
       "      <th>url</th>\n",
       "      <th>label</th>\n",
       "    </tr>\n",
       "  </thead>\n",
       "  <tbody>\n",
       "    <tr>\n",
       "      <th>0</th>\n",
       "      <td>diaryofagameaddict.com</td>\n",
       "      <td>1</td>\n",
       "    </tr>\n",
       "    <tr>\n",
       "      <th>1</th>\n",
       "      <td>espdesign.com.au</td>\n",
       "      <td>1</td>\n",
       "    </tr>\n",
       "    <tr>\n",
       "      <th>2</th>\n",
       "      <td>iamagameaddict.com</td>\n",
       "      <td>1</td>\n",
       "    </tr>\n",
       "    <tr>\n",
       "      <th>3</th>\n",
       "      <td>kalantzis.net</td>\n",
       "      <td>1</td>\n",
       "    </tr>\n",
       "    <tr>\n",
       "      <th>4</th>\n",
       "      <td>slightlyoffcenter.net</td>\n",
       "      <td>1</td>\n",
       "    </tr>\n",
       "    <tr>\n",
       "      <th>5</th>\n",
       "      <td>toddscarwash.com</td>\n",
       "      <td>1</td>\n",
       "    </tr>\n",
       "    <tr>\n",
       "      <th>6</th>\n",
       "      <td>tubemoviez.com</td>\n",
       "      <td>1</td>\n",
       "    </tr>\n",
       "    <tr>\n",
       "      <th>7</th>\n",
       "      <td>ipl.hk</td>\n",
       "      <td>1</td>\n",
       "    </tr>\n",
       "    <tr>\n",
       "      <th>8</th>\n",
       "      <td>crackspider.us/toolbar/install.php?pack=exe</td>\n",
       "      <td>1</td>\n",
       "    </tr>\n",
       "    <tr>\n",
       "      <th>9</th>\n",
       "      <td>pos-kupang.com/</td>\n",
       "      <td>1</td>\n",
       "    </tr>\n",
       "    <tr>\n",
       "      <th>10</th>\n",
       "      <td>rupor.info</td>\n",
       "      <td>1</td>\n",
       "    </tr>\n",
       "    <tr>\n",
       "      <th>11</th>\n",
       "      <td>svision-online.de/mgfi/administrator/component...</td>\n",
       "      <td>1</td>\n",
       "    </tr>\n",
       "    <tr>\n",
       "      <th>12</th>\n",
       "      <td>officeon.ch.ma/office.js?google_ad_format=728x...</td>\n",
       "      <td>1</td>\n",
       "    </tr>\n",
       "    <tr>\n",
       "      <th>13</th>\n",
       "      <td>sn-gzzx.com</td>\n",
       "      <td>1</td>\n",
       "    </tr>\n",
       "    <tr>\n",
       "      <th>14</th>\n",
       "      <td>sunlux.net/company/about.html</td>\n",
       "      <td>1</td>\n",
       "    </tr>\n",
       "    <tr>\n",
       "      <th>15</th>\n",
       "      <td>outporn.com</td>\n",
       "      <td>1</td>\n",
       "    </tr>\n",
       "    <tr>\n",
       "      <th>16</th>\n",
       "      <td>timothycopus.aimoo.com</td>\n",
       "      <td>1</td>\n",
       "    </tr>\n",
       "    <tr>\n",
       "      <th>17</th>\n",
       "      <td>xindalawyer.com</td>\n",
       "      <td>1</td>\n",
       "    </tr>\n",
       "    <tr>\n",
       "      <th>18</th>\n",
       "      <td>freeserials.spb.ru/key/68703.htm</td>\n",
       "      <td>1</td>\n",
       "    </tr>\n",
       "    <tr>\n",
       "      <th>19</th>\n",
       "      <td>deletespyware-adware.com</td>\n",
       "      <td>1</td>\n",
       "    </tr>\n",
       "  </tbody>\n",
       "</table>\n",
       "</div>"
      ],
      "text/plain": [
       "                                                  url label\n",
       "0                              diaryofagameaddict.com     1\n",
       "1                                    espdesign.com.au     1\n",
       "2                                  iamagameaddict.com     1\n",
       "3                                       kalantzis.net     1\n",
       "4                               slightlyoffcenter.net     1\n",
       "5                                    toddscarwash.com     1\n",
       "6                                      tubemoviez.com     1\n",
       "7                                              ipl.hk     1\n",
       "8         crackspider.us/toolbar/install.php?pack=exe     1\n",
       "9                                     pos-kupang.com/     1\n",
       "10                                         rupor.info     1\n",
       "11  svision-online.de/mgfi/administrator/component...     1\n",
       "12  officeon.ch.ma/office.js?google_ad_format=728x...     1\n",
       "13                                        sn-gzzx.com     1\n",
       "14                      sunlux.net/company/about.html     1\n",
       "15                                        outporn.com     1\n",
       "16                             timothycopus.aimoo.com     1\n",
       "17                                    xindalawyer.com     1\n",
       "18                   freeserials.spb.ru/key/68703.htm     1\n",
       "19                           deletespyware-adware.com     1"
      ]
     },
     "execution_count": 9,
     "metadata": {},
     "output_type": "execute_result"
    }
   ],
   "source": [
    "# Reading data from csv file\n",
    "data = pd.read_csv(\"dataset_URLs.csv\")\n",
    "data.label[data.label == 'bad'] = '1'\n",
    "data.label[data.label == 'good'] = '0'\n",
    "data.head(20)"
   ]
  },
  {
   "cell_type": "code",
   "execution_count": 3,
   "metadata": {
    "ExecuteTime": {
     "end_time": "2019-05-22T10:43:32.608080Z",
     "start_time": "2019-05-22T10:43:32.474438Z"
    }
   },
   "outputs": [
    {
     "name": "stdout",
     "output_type": "stream",
     "text": [
      "Total number of Urls:  420464\n",
      "Number of Malicious Urls:  75643\n",
      "Number of Safe Urls:  344821\n",
      "Percentage of Malicious Urls:  17.990363027512462\n",
      "Percentage of Safe Urls:  82.00963697248754\n"
     ]
    }
   ],
   "source": [
    "urls=data.count().values[0]\n",
    "mal_url=data[data.label == '1'].count().values[0]\n",
    "safe_url=data[data.label == '0'].count().values[0]\n",
    "\n",
    "print('Total number of Urls: ',urls)\n",
    "print('Number of Malicious Urls: ',mal_url)\n",
    "print('Number of Safe Urls: ',safe_url)\n",
    "\n",
    "print('Percentage of Malicious Urls: ',100*mal_url/urls)\n",
    "print('Percentage of Safe Urls: ',100*safe_url/urls)"
   ]
  },
  {
   "cell_type": "code",
   "execution_count": 4,
   "metadata": {
    "ExecuteTime": {
     "end_time": "2019-05-22T10:43:32.623069Z",
     "start_time": "2019-05-22T10:43:32.619051Z"
    }
   },
   "outputs": [],
   "source": [
    "# Labels\n",
    "y = data[\"label\"]\n",
    "\n",
    "# Features\n",
    "url_list = data[\"url\"]"
   ]
  },
  {
   "cell_type": "code",
   "execution_count": 6,
   "metadata": {
    "ExecuteTime": {
     "end_time": "2019-05-22T10:43:48.193141Z",
     "start_time": "2019-05-22T10:43:43.950515Z"
    }
   },
   "outputs": [
    {
     "name": "stdout",
     "output_type": "stream",
     "text": [
      "(420464, 423927)\n"
     ]
    }
   ],
   "source": [
    "# Using Tokenizer\n",
    "vectorizer = TfidfVectorizer()\n",
    "\n",
    "# Store vectors into X variable as Our XFeatures\n",
    "X = vectorizer.fit_transform(url_list)\n",
    "print(X.shape)"
   ]
  },
  {
   "cell_type": "code",
   "execution_count": 6,
   "metadata": {
    "ExecuteTime": {
     "end_time": "2019-05-19T16:14:44.535791Z",
     "start_time": "2019-05-19T16:14:44.259508Z"
    }
   },
   "outputs": [],
   "source": [
    "# Split into training and testing dataset 80:20 ratio\n",
    "X_train, X_test, y_train, y_test = train_test_split(X, y, test_size=0.2, random_state=1)"
   ]
  },
  {
   "cell_type": "code",
   "execution_count": 7,
   "metadata": {
    "ExecuteTime": {
     "end_time": "2019-05-19T16:14:44.794078Z",
     "start_time": "2019-05-19T16:14:44.788095Z"
    }
   },
   "outputs": [
    {
     "name": "stdout",
     "output_type": "stream",
     "text": [
      "(420464, 423927)\n",
      "(336371, 423927)\n",
      "(84093, 423927)\n",
      "(336371,)\n",
      "(84093,)\n"
     ]
    }
   ],
   "source": [
    "print(X.shape)\n",
    "print(X_train.shape)\n",
    "print(X_test.shape)\n",
    "print(y_train.shape)\n",
    "print(y_test.shape)"
   ]
  },
  {
   "cell_type": "code",
   "execution_count": 8,
   "metadata": {
    "ExecuteTime": {
     "end_time": "2019-05-19T16:14:45.045407Z",
     "start_time": "2019-05-19T16:14:45.040421Z"
    }
   },
   "outputs": [],
   "source": [
    "def confuse(y_test, y_pred):\n",
    "    return pd.crosstab(y_test, y_pred, rownames=['Actual'], colnames=['Predicted'], margins=True)"
   ]
  },
  {
   "cell_type": "code",
   "execution_count": 9,
   "metadata": {
    "ExecuteTime": {
     "end_time": "2019-05-19T16:14:45.428382Z",
     "start_time": "2019-05-19T16:14:45.289754Z"
    }
   },
   "outputs": [],
   "source": [
    "import matplotlib.pyplot as plt\n",
    "from sklearn.metrics import roc_curve, auc\n",
    "\n",
    "def plot_roc(test, pred):\n",
    "    fpr = dict()\n",
    "    tpr = dict()\n",
    "    roc_auc = dict()\n",
    "    for i in range(2):\n",
    "        fpr[i], tpr[i], _ = roc_curve(test, pred)\n",
    "        roc_auc[i] = auc(fpr[i], tpr[i])\n",
    "    print(roc_auc_score(test, pred))\n",
    "    plt.figure()\n",
    "    plt.plot(fpr[1], tpr[1])\n",
    "    plt.xlim([0.0, 1.0])\n",
    "    plt.ylim([0.0, 1.05])\n",
    "    plt.xlabel('False Positive Rate')\n",
    "    plt.ylabel('True Positive Rate')\n",
    "    plt.title('Receiver operating characteristic')\n",
    "    plt.show()"
   ]
  },
  {
   "cell_type": "markdown",
   "metadata": {},
   "source": [
    "# Non Ensemble"
   ]
  },
  {
   "cell_type": "code",
   "execution_count": 10,
   "metadata": {
    "ExecuteTime": {
     "end_time": "2019-05-19T16:14:48.765489Z",
     "start_time": "2019-05-19T16:14:48.739537Z"
    }
   },
   "outputs": [],
   "source": [
    "from sklearn.tree import DecisionTreeClassifier\n",
    "from sklearn.neighbors import KNeighborsClassifier\n",
    "from sklearn.ensemble import RandomForestClassifier\n",
    "from sklearn.metrics import accuracy_score\n",
    "from sklearn.metrics import confusion_matrix\n",
    "from sklearn.metrics import roc_curve\n",
    "from sklearn.metrics import roc_auc_score\n",
    "from sklearn.neural_network import MLPClassifier \n",
    "from sklearn.linear_model import LogisticRegression\n",
    "from sklearn.svm import SVC  \n",
    "from sklearn.feature_selection import RFE\n",
    "from sklearn.naive_bayes import GaussianNB, BernoulliNB, MultinomialNB"
   ]
  },
  {
   "cell_type": "code",
   "execution_count": 239,
   "metadata": {
    "ExecuteTime": {
     "end_time": "2019-05-18T21:06:53.735345Z",
     "start_time": "2019-05-18T20:23:57.856218Z"
    }
   },
   "outputs": [
    {
     "name": "stderr",
     "output_type": "stream",
     "text": [
      "C:\\Users\\Admin\\.conda\\envs\\ml\\lib\\site-packages\\sklearn\\neural_network\\multilayer_perceptron.py:562: ConvergenceWarning: Stochastic Optimizer: Maximum iterations (10) reached and the optimization hasn't converged yet.\n",
      "  % self.max_iter, ConvergenceWarning)\n"
     ]
    },
    {
     "name": "stdout",
     "output_type": "stream",
     "text": [
      "MLP Neural Net Accuracy_score:  98.03907578514264\n",
      "Predicted      0      1    All\n",
      "Actual                        \n",
      "0          68752    377  69129\n",
      "1           2597  12367  14964\n",
      "All        71349  12744  84093\n",
      "0.9104982873563334\n"
     ]
    },
    {
     "data": {
      "image/png": "[encoded data removed]",
      "text/plain": [
       "<Figure size 432x288 with 1 Axes>"
      ]
     },
     "metadata": {
      "needs_background": "light"
     },
     "output_type": "display_data"
    }
   ],
   "source": [
    "mlp = MLPClassifier(hidden_layer_sizes=(10), max_iter=10, random_state=1)\n",
    "mlp.fit(X_train, y_train)\n",
    "predictions = mlp.predict(X_test)  \n",
    "print('MLP Neural Net Accuracy_score: ',accuracy_score(y_test,predictions)*100)\n",
    "print(confuse(y_test, predictions))\n",
    "plot_roc(y_test.astype(int), predictions.astype(int))"
   ]
  },
  {
   "cell_type": "code",
   "execution_count": 36,
   "metadata": {
    "ExecuteTime": {
     "end_time": "2019-05-19T19:23:43.802796Z",
     "start_time": "2019-05-19T19:11:26.892406Z"
    }
   },
   "outputs": [
    {
     "name": "stdout",
     "output_type": "stream",
     "text": [
      "KNeighbors Accuracy_score:  96.12690711474201\n",
      "Predicted      0      1    All\n",
      "Actual                        \n",
      "0          68851     75  68926\n",
      "1           3021  12146  15167\n",
      "All        71872  12221  84093\n",
      "0.9093416321051007\n"
     ]
    },
    {
     "data": {
      "image/png": "[encoded data removed]",
      "text/plain": [
       "<Figure size 432x288 with 1 Axes>"
      ]
     },
     "metadata": {
      "needs_background": "light"
     },
     "output_type": "display_data"
    }
   ],
   "source": [
    "knc = KNeighborsClassifier(n_neighbors=10)\n",
    "knc.fit(X_train, y_train)\n",
    "y_knc = knc.predict(X_test)\n",
    "print('KNeighbors Accuracy_score: ',accuracy_score(y_test,y_knc)*100)\n",
    "print(confuse(y_test,y_pred))\n",
    "plot_roc(y_test.astype(int), y_knc.astype(int))"
   ]
  },
  {
   "cell_type": "code",
   "execution_count": 11,
   "metadata": {
    "ExecuteTime": {
     "end_time": "2019-05-19T11:47:42.079901Z",
     "start_time": "2019-05-19T11:24:10.018164Z"
    }
   },
   "outputs": [
    {
     "name": "stdout",
     "output_type": "stream",
     "text": [
      "Random Forest Accuracy_score:  0.9709963968463486\n",
      "Predicted      0      1    All\n",
      "Actual                        \n",
      "0          68657    269  68926\n",
      "1           2170  12997  15167\n",
      "All        70827  13266  84093\n",
      "0.926511742566923\n"
     ]
    },
    {
     "data": {
      "image/png": "[encoded data removed]",
      "text/plain": [
       "<Figure size 432x288 with 1 Axes>"
      ]
     },
     "metadata": {
      "needs_background": "light"
     },
     "output_type": "display_data"
    }
   ],
   "source": [
    "classifier = RandomForestClassifier(n_estimators=10,random_state=1)  \n",
    "classifier.fit(X_train, y_train)\n",
    "y_pred = classifier.predict(X_test)  \n",
    "print('Random Forest Accuracy_score: ',accuracy_score(y_test,y_pred))\n",
    "print(confuse(y_test, y_pred))\n",
    "plot_roc(y_test.astype(int), y_pred.astype(int))"
   ]
  },
  {
   "cell_type": "code",
   "execution_count": 15,
   "metadata": {
    "ExecuteTime": {
     "end_time": "2019-05-19T16:15:52.151878Z",
     "start_time": "2019-05-19T16:15:46.151917Z"
    }
   },
   "outputs": [
    {
     "name": "stdout",
     "output_type": "stream",
     "text": [
      "Logistic Regression Accuracy_score:  96.29576778090923\n",
      "Predicted      0      1    All\n",
      "Actual                        \n",
      "0          68592    334  68926\n",
      "1           2781  12386  15167\n",
      "All        71373  12720  84093\n",
      "0.9058978079334296\n"
     ]
    },
    {
     "data": {
      "image/png": "[encoded data removed]",
      "text/plain": [
       "<Figure size 432x288 with 1 Axes>"
      ]
     },
     "metadata": {
      "needs_background": "light"
     },
     "output_type": "display_data"
    }
   ],
   "source": [
    "logreg = LogisticRegression(solver=\"saga\", random_state=1)\n",
    "logreg.fit(X_train, y_train)\n",
    "y_pred = logreg.predict(X_test)\n",
    "print('Logistic Regression Accuracy_score: ',accuracy_score(y_test,y_pred)*100)\n",
    "print(confuse(y_test, y_pred))\n",
    "plot_roc(y_test.astype(int), y_pred.astype(int))"
   ]
  },
  {
   "cell_type": "code",
   "execution_count": 16,
   "metadata": {
    "ExecuteTime": {
     "end_time": "2019-05-19T16:15:53.653862Z",
     "start_time": "2019-05-19T16:15:52.399216Z"
    }
   },
   "outputs": [
    {
     "name": "stdout",
     "output_type": "stream",
     "text": [
      "Naive Bayes(Bernoulli):  95.11968891584317\n",
      "Predicted      0      1    All\n",
      "Actual                        \n",
      "0          68689    237  68926\n",
      "1           3867  11300  15167\n",
      "All        72556  11537  84093\n",
      "0.8708000501687084\n"
     ]
    },
    {
     "data": {
      "image/png": "[encoded data removed]",
      "text/plain": [
       "<Figure size 432x288 with 1 Axes>"
      ]
     },
     "metadata": {
      "needs_background": "light"
     },
     "output_type": "display_data"
    }
   ],
   "source": [
    "bnb = BernoulliNB()\n",
    "bnb.fit(X_train, y_train)\n",
    "y_pred = bnb.predict(X_test)\n",
    "print('Naive Bayes(Bernoulli): ',accuracy_score(y_test,y_pred)*100)\n",
    "print(confuse(y_test, y_pred))\n",
    "plot_roc(y_test.astype(int), y_pred.astype(int))"
   ]
  },
  {
   "cell_type": "code",
   "execution_count": 17,
   "metadata": {
    "ExecuteTime": {
     "end_time": "2019-05-19T16:15:55.111964Z",
     "start_time": "2019-05-19T16:15:53.910177Z"
    }
   },
   "outputs": [
    {
     "name": "stdout",
     "output_type": "stream",
     "text": [
      "Naive Bayes(Multinomial):  96.31836181370626\n",
      "Predicted      0      1    All\n",
      "Actual                        \n",
      "0          68851     75  68926\n",
      "1           3021  12146  15167\n",
      "All        71872  12221  84093\n",
      "0.8998647204771854\n"
     ]
    },
    {
     "data": {
      "image/png": "[encoded data removed]",
      "text/plain": [
       "<Figure size 432x288 with 1 Axes>"
      ]
     },
     "metadata": {
      "needs_background": "light"
     },
     "output_type": "display_data"
    }
   ],
   "source": [
    "mnb = MultinomialNB()\n",
    "mnb.fit(X_train, y_train)\n",
    "y_pred = mnb.predict(X_test)\n",
    "print('Naive Bayes(Multinomial): ',accuracy_score(y_test,y_pred)*100)\n",
    "print(confuse(y_test, y_pred))\n",
    "plot_roc(y_test.astype(int), y_pred.astype(int))"
   ]
  },
  {
   "cell_type": "markdown",
   "metadata": {},
   "source": [
    "# SVD"
   ]
  },
  {
   "cell_type": "code",
   "execution_count": 7,
   "metadata": {
    "ExecuteTime": {
     "end_time": "2019-05-22T10:44:55.660794Z",
     "start_time": "2019-05-22T10:44:24.415204Z"
    }
   },
   "outputs": [
    {
     "name": "stdout",
     "output_type": "stream",
     "text": [
      "(420464, 100)\n"
     ]
    }
   ],
   "source": [
    "from sklearn.decomposition.truncated_svd import TruncatedSVD        \n",
    "pca = TruncatedSVD(n_components=100)                                \n",
    "X_reduced_train = pca.fit_transform(X)\n",
    "print(X_reduced_train.shape)"
   ]
  },
  {
   "cell_type": "code",
   "execution_count": 39,
   "metadata": {
    "ExecuteTime": {
     "end_time": "2019-05-19T19:33:13.253669Z",
     "start_time": "2019-05-19T19:33:13.002309Z"
    }
   },
   "outputs": [],
   "source": [
    "# Split into training and testing dataset 80:20 ratio\n",
    "a_train, a_test, b_train, b_test = train_test_split(X_reduced_train, y, test_size=0.2, random_state=1)"
   ]
  },
  {
   "cell_type": "code",
   "execution_count": 40,
   "metadata": {
    "ExecuteTime": {
     "end_time": "2019-05-19T19:33:37.213351Z",
     "start_time": "2019-05-19T19:33:28.783796Z"
    }
   },
   "outputs": [
    {
     "name": "stderr",
     "output_type": "stream",
     "text": [
      "C:\\Users\\Admin\\.conda\\envs\\ml\\lib\\site-packages\\sklearn\\neural_network\\multilayer_perceptron.py:562: ConvergenceWarning: Stochastic Optimizer: Maximum iterations (10) reached and the optimization hasn't converged yet.\n",
      "  % self.max_iter, ConvergenceWarning)\n"
     ]
    },
    {
     "name": "stdout",
     "output_type": "stream",
     "text": [
      "MLP Neural Net Accuracy_score:  92.70688404504537\n",
      "Predicted      0      1    All\n",
      "Actual                        \n",
      "0          67724   1202  68926\n",
      "1           4931  10236  15167\n",
      "All        72655  11438  84093\n",
      "0.82872363684659\n"
     ]
    },
    {
     "data": {
      "image/png": "[encoded data removed]",
      "text/plain": [
       "<Figure size 432x288 with 1 Axes>"
      ]
     },
     "metadata": {
      "needs_background": "light"
     },
     "output_type": "display_data"
    }
   ],
   "source": [
    "mlp = MLPClassifier(hidden_layer_sizes=(10), max_iter=10, random_state=1)\n",
    "mlp.fit(a_train, b_train)\n",
    "y_mlp = mlp.predict(a_test)  \n",
    "print('MLP Neural Net Accuracy_score: ',accuracy_score(b_test,y_mlp)*100)\n",
    "print(confuse(b_test, y_mlp))\n",
    "plot_roc(b_test.astype(int), y_mlp.astype(int))"
   ]
  },
  {
   "cell_type": "code",
   "execution_count": 25,
   "metadata": {
    "ExecuteTime": {
     "end_time": "2019-05-19T18:09:25.428947Z",
     "start_time": "2019-05-19T18:01:58.808894Z"
    }
   },
   "outputs": [
    {
     "name": "stdout",
     "output_type": "stream",
     "text": [
      "KNeighbors Accuracy_score:  95.05785261555658\n",
      "Predicted      0      1    All\n",
      "Actual                        \n",
      "0          67420   1506  68926\n",
      "1           2650  12517  15167\n",
      "All        70070  14023  84093\n",
      "0.901714522765713\n"
     ]
    },
    {
     "data": {
      "image/png": "[encoded data removed]",
      "text/plain": [
       "<Figure size 432x288 with 1 Axes>"
      ]
     },
     "metadata": {
      "needs_background": "light"
     },
     "output_type": "display_data"
    }
   ],
   "source": [
    "knc = KNeighborsClassifier(n_neighbors=10)\n",
    "knc.fit(a_train, b_train)\n",
    "y_knc = knc.predict(a_test)\n",
    "print('KNeighbors Accuracy_score: ',accuracy_score(b_test,y_knc)*100)\n",
    "print(confuse(b_test,y_knc))\n",
    "plot_roc(b_test.astype(int), y_knc.astype(int))"
   ]
  },
  {
   "cell_type": "code",
   "execution_count": 18,
   "metadata": {
    "ExecuteTime": {
     "end_time": "2019-05-19T16:16:36.509364Z",
     "start_time": "2019-05-19T16:15:56.085435Z"
    }
   },
   "outputs": [
    {
     "name": "stdout",
     "output_type": "stream",
     "text": [
      "Random Forest Accuracy_score:  96.80591725827358\n",
      "Predicted      0      1    All\n",
      "Actual                        \n",
      "0          68142    784  68926\n",
      "1           1902  13265  15167\n",
      "All        70044  14049  84093\n",
      "0.9316108225615571\n"
     ]
    },
    {
     "data": {
      "image/png": "[encoded data removed]",
      "text/plain": [
       "<Figure size 432x288 with 1 Axes>"
      ]
     },
     "metadata": {
      "needs_background": "light"
     },
     "output_type": "display_data"
    }
   ],
   "source": [
    "rtree = RandomForestClassifier(n_estimators=10,random_state=1)\n",
    "rtree.fit(a_train, b_train)\n",
    "b_pred = rtree.predict(a_test)  \n",
    "print('Random Forest Accuracy_score: ',accuracy_score(b_test,b_pred)*100)\n",
    "print(confuse(b_test,b_pred))\n",
    "plot_roc(b_test.astype(int), b_pred.astype(int))"
   ]
  },
  {
   "cell_type": "markdown",
   "metadata": {},
   "source": [
    "# Ensemble Neural Net"
   ]
  },
  {
   "cell_type": "code",
   "execution_count": 13,
   "metadata": {
    "ExecuteTime": {
     "end_time": "2019-05-19T16:15:32.459003Z",
     "start_time": "2019-05-19T16:15:30.998876Z"
    }
   },
   "outputs": [
    {
     "name": "stderr",
     "output_type": "stream",
     "text": [
      "Using TensorFlow backend.\n"
     ]
    }
   ],
   "source": [
    "# MLP for the URL problem\n",
    "import numpy\n",
    "from keras.models import Sequential\n",
    "from keras.layers import Dense\n",
    "from keras.layers import Flatten\n",
    "from keras.layers.embeddings import Embedding\n",
    "from keras.preprocessing import sequence\n",
    "# fix random seed for reproducibility\n",
    "seed = 1\n",
    "numpy.random.seed(seed)"
   ]
  },
  {
   "cell_type": "code",
   "execution_count": 20,
   "metadata": {
    "ExecuteTime": {
     "end_time": "2019-05-19T16:19:58.931170Z",
     "start_time": "2019-05-19T16:19:57.492996Z"
    }
   },
   "outputs": [
    {
     "name": "stdout",
     "output_type": "stream",
     "text": [
      "(336371, 4)\n",
      "(84093, 4)\n"
     ]
    }
   ],
   "source": [
    "# Construct NN Train Set\n",
    "y_logreg = logreg.predict(X_train)\n",
    "y_mnb = mnb.predict(X_train)\n",
    "y_bnb = bnb.predict(X_train)\n",
    "y_rtree = rtree.predict(a_train) \n",
    "X_nn_train=np.vstack((y_logreg,y_mnb,y_bnb,y_rtree)).T\n",
    "print(X_nn_train.shape)\n",
    "# Construct NN Test Set\n",
    "y_logreg = logreg.predict(X_test)\n",
    "y_mnb = mnb.predict(X_test)\n",
    "y_bnb = bnb.predict(X_test)\n",
    "y_rtree = rtree.predict(a_test) \n",
    "X_nn_test=np.vstack((y_logreg,y_mnb,y_bnb,y_rtree)).T\n",
    "print(X_nn_test.shape)"
   ]
  },
  {
   "cell_type": "code",
   "execution_count": 23,
   "metadata": {
    "ExecuteTime": {
     "end_time": "2019-05-19T16:24:34.626273Z",
     "start_time": "2019-05-19T16:24:02.021955Z"
    }
   },
   "outputs": [
    {
     "name": "stdout",
     "output_type": "stream",
     "text": [
      "Train on 269096 samples, validate on 67275 samples\n",
      "Epoch 1/10\n",
      "269096/269096 [==============================] - 3s 13us/step - loss: 0.0475 - acc: 0.9843 - val_loss: 0.0078 - val_acc: 0.9913\n",
      "Epoch 2/10\n",
      "269096/269096 [==============================] - 3s 12us/step - loss: 0.0078 - acc: 0.9913 - val_loss: 0.0076 - val_acc: 0.9913\n",
      "Epoch 3/10\n",
      "269096/269096 [==============================] - 3s 12us/step - loss: 0.0078 - acc: 0.9913 - val_loss: 0.0076 - val_acc: 0.9913\n",
      "Epoch 4/10\n",
      "269096/269096 [==============================] - 3s 12us/step - loss: 0.0078 - acc: 0.9913 - val_loss: 0.0076 - val_acc: 0.9913\n",
      "Epoch 5/10\n",
      "269096/269096 [==============================] - 3s 12us/step - loss: 0.0078 - acc: 0.9913 - val_loss: 0.0077 - val_acc: 0.9913\n",
      "Epoch 6/10\n",
      "269096/269096 [==============================] - 3s 12us/step - loss: 0.0077 - acc: 0.9913 - val_loss: 0.0076 - val_acc: 0.9913\n",
      "Epoch 7/10\n",
      "269096/269096 [==============================] - 3s 12us/step - loss: 0.0077 - acc: 0.9913 - val_loss: 0.0076 - val_acc: 0.9913\n",
      "Epoch 8/10\n",
      "269096/269096 [==============================] - 3s 12us/step - loss: 0.0077 - acc: 0.9913 - val_loss: 0.0076 - val_acc: 0.9913\n",
      "Epoch 9/10\n",
      "269096/269096 [==============================] - 3s 12us/step - loss: 0.0077 - acc: 0.9913 - val_loss: 0.0076 - val_acc: 0.9913\n",
      "Epoch 10/10\n",
      "269096/269096 [==============================] - 3s 12us/step - loss: 0.0077 - acc: 0.9913 - val_loss: 0.0076 - val_acc: 0.9913\n"
     ]
    },
    {
     "data": {
      "text/plain": [
       "<keras.callbacks.History at 0x1682d380e48>"
      ]
     },
     "execution_count": 23,
     "metadata": {},
     "output_type": "execute_result"
    }
   ],
   "source": [
    "# create the model\n",
    "model = Sequential()\n",
    "model.add(Dense(50, input_dim=X_nn_train.shape[1], kernel_initializer='normal', activation='relu'))\n",
    "model.add(Dense(10, input_dim=X_nn_train.shape[1], kernel_initializer='normal', activation='relu'))\n",
    "model.add(Dense(1, kernel_initializer='normal', activation='sigmoid'))\n",
    "model.compile(loss='mse', optimizer='adam', metrics=['accuracy'])\n",
    "# Fit the model\n",
    "model.fit(X_nn_train, y_train, validation_split=0.2, epochs=10, batch_size=256, verbose=1)"
   ]
  },
  {
   "cell_type": "code",
   "execution_count": 24,
   "metadata": {
    "ExecuteTime": {
     "end_time": "2019-05-19T16:24:45.518644Z",
     "start_time": "2019-05-19T16:24:41.935225Z"
    }
   },
   "outputs": [
    {
     "name": "stdout",
     "output_type": "stream",
     "text": [
      "Accuracy: 97.61%\n",
      "Predicted      0      1    All\n",
      "Actual                        \n",
      "0          68094    832  68926\n",
      "1           1176  13991  15167\n",
      "All        69270  14823  84093\n",
      "0.9551961629654329\n"
     ]
    },
    {
     "data": {
      "image/png": "[encoded data removed]",
      "text/plain": [
       "<Figure size 432x288 with 1 Axes>"
      ]
     },
     "metadata": {
      "needs_background": "light"
     },
     "output_type": "display_data"
    }
   ],
   "source": [
    "# Final evaluation of the model\n",
    "scores = model.evaluate(X_nn_test, y_test, verbose=0)\n",
    "print(\"Accuracy: %.2f%%\" % (scores[1]*100))\n",
    "nn_pred = model.predict_classes(X_nn_test) \n",
    "print(confuse(y_test,nn_pred.ravel()))\n",
    "plot_roc(y_test.astype(int), nn_pred.astype(int))"
   ]
  },
  {
   "cell_type": "code",
   "execution_count": 42,
   "metadata": {
    "ExecuteTime": {
     "end_time": "2019-05-19T21:16:07.572774Z",
     "start_time": "2019-05-19T21:16:07.557815Z"
    }
   },
   "outputs": [
    {
     "name": "stdout",
     "output_type": "stream",
     "text": [
      "Precision:  0.9704174513496547\n",
      "Recall:     0.8264501470195135\n",
      "F1 score:   0.8926663779413887\n"
     ]
    }
   ],
   "source": [
    "def metra(tp,fp,tn,fn):\n",
    "    precision= tp/(tp+fp)\n",
    "    recall=tp/(tp+fn)\n",
    "    f1=2*(precision*recall)/(precision+recall)\n",
    "    print(\"Precision: \", precision)\n",
    "    print(\"Recall:    \", recall)\n",
    "    print(\"F1 score:  \", f1)\n",
    "\n",
    "metra(12367,377,68752,2597)"
   ]
  },
  {
   "cell_type": "markdown",
   "metadata": {},
   "source": [
    "| Algorithm    | Precision | Recall | F1 score | AUC   | Accuracy |\n",
    "|-|-|-|-|-|-|\n",
    "| Logistic     | 0.973     | 0.816  | 0.888    | 0.905 | 96.3     |\n",
    "| MLP          | 0.97      | 0.826  | 0.892    | 0.910 | 98.04    |\n",
    "| MLP (SVD)    | 0.895     | 0.674  | 0.769    | 0.828 | 92.7     |\n",
    "| KNN          | 0.993     | 0.801  | 0.886    | 0.909 | 96.12    |\n",
    "| RndFrst      | 0.979     | 0.856  | 0.914    | 0.926 | 97.1     |\n",
    "| NB Bernoulli | 0.979     | 0.745  | 0.846    | 0.871 | 95.12    |\n",
    "| NB Multin    | 0.993     | 0.801  | 0.887    | 0.899 | 96.32    |\n",
    "| KNN (SVD)    | 0.892     | 0.825  | 0.857    | 0.901 | 95.58    |\n",
    "| RndFrst(SVD) | 0.944     | 0.874  | 0.908    | 0.931 | 96.8     |\n",
    "| Ensemble NN  | 0.943     | 0.922  | 0.933    | 0.955 | 97.61    |\n"
   ]
  },
  {
   "cell_type": "code",
   "execution_count": null,
   "metadata": {},
   "outputs": [],
   "source": []
  }
 ],
 "metadata": {
  "kernelspec": {
   "display_name": "Python 3",
   "language": "python",
   "name": "python3"
  },
  "language_info": {
   "codemirror_mode": {
    "name": "ipython",
    "version": 3
   },
   "file_extension": ".py",
   "mimetype": "text/x-python",
   "name": "python",
   "nbconvert_exporter": "python",
   "pygments_lexer": "ipython3",
   "version": "3.6.8"
  },
  "latex_envs": {
   "LaTeX_envs_menu_present": true,
   "autoclose": false,
   "autocomplete": true,
   "bibliofile": "biblio.bib",
   "cite_by": "apalike",
   "current_citInitial": 1,
   "eqLabelWithNumbers": true,
   "eqNumInitial": 1,
   "hotkeys": {
    "equation": "Ctrl-E",
    "itemize": "Ctrl-I"
   },
   "labels_anchors": false,
   "latex_user_defs": false,
   "report_style_numbering": false,
   "user_envs_cfg": false
  },
  "toc": {
   "base_numbering": 1,
   "nav_menu": {},
   "number_sections": true,
   "sideBar": true,
   "skip_h1_title": false,
   "title_cell": "Table of Contents",
   "title_sidebar": "Contents",
   "toc_cell": false,
   "toc_position": {},
   "toc_section_display": true,
   "toc_window_display": false
  },
  "varInspector": {
   "cols": {
    "lenName": 16,
    "lenType": 16,
    "lenVar": 40
   },
   "kernels_config": {
    "python": {
     "delete_cmd_postfix": "",
     "delete_cmd_prefix": "del ",
     "library": "var_list.py",
     "varRefreshCmd": "print(var_dic_list())"
    },
    "r": {
     "delete_cmd_postfix": ") ",
     "delete_cmd_prefix": "rm(",
     "library": "var_list.r",
     "varRefreshCmd": "cat(var_dic_list()) "
    }
   },
   "types_to_exclude": [
    "module",
    "function",
    "builtin_function_or_method",
    "instance",
    "_Feature"
   ],
   "window_display": false
  }
 },
 "nbformat": 4,
 "nbformat_minor": 2
}

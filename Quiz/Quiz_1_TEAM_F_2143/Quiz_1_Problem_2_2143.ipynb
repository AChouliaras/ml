{
 "cells": [
  {
   "cell_type": "markdown",
   "metadata": {},
   "source": [
    "# Home Quiz 1 - Logistic Regression\n",
    "\n",
    "## Problem 2: Logistic Regression\n",
    "\n",
    "#### Team F\n",
    "Andreas Chouliaras 2143\n"
   ]
  },
  {
   "cell_type": "markdown",
   "metadata": {},
   "source": [
    "\\textbf{a)}  Considering the case of two classes (C1 and C2), suppose we have a dataset $\\{x^{(i)}_{p},y^{(i)}\\}$ where $i=1,...,N$ is the sample index and p the number of features.<br>\n",
    "\n",
    "Our model uses the logistic function $\\sigma(z)$:\n",
    "$$\n",
    " \\sigma(z)= \\frac{1}{1 + e^{-z}} \n",
    "$$\n",
    "We will denote: \n",
    "$$\n",
    " w^T\\mathbf{x^{(i)}}= w_0 + \\sum_{p=0}^{P} w_px^{(i)}_p = w_0 + w_1 x^{(i)}_1 + w_2 x^{(i)}_2 + ... + w_p x^{(i)}_p\n",
    "$$\n",
    "The posterior probability of class C1 can be written as :\n",
    "$$\n",
    "P(Y=C1|\\mathbf{x^{(i)}}) = \\sigma(w^T\\mathbf{x^{(i)}})\n",
    "$$\n",
    "\n",
    "And the posterior probability of class C2 is:\n",
    "$$\n",
    "P(Y=C2|\\mathbf{x^{(i)}}) = 1-P(Y=C1|\\mathbf{x^{(i)}}) = 1- \\sigma(w^T\\mathbf{x^{(i)}})\n",
    "$$\n",
    "\n"
   ]
  },
  {
   "cell_type": "markdown",
   "metadata": {},
   "source": [
    "The labels that we are predicting are binary.This means that we can (and should) interpret each label as a Bernoulli random variable. <br> Thus the likelihood for one data point is:\n",
    "\n",
    "$$\n",
    "P(Y=y^{(i)}|\\mathbf{x^{(i)}}) = \\sigma(w^T\\mathbf{x^{(i)}})^{y^{(i)}}  [1-\\sigma(w^T\\mathbf{x^{(i)}}) ]^{(1-y^{(i)})}\n",
    "$$\n",
    "\n",
    "So the likelihood function becomes:\n",
    "$$\n",
    "L(w)=\\prod_{i=1}^{n} P(Y=y^{(i)}|\\mathbf{x^{(i)}}) \\\\\n",
    "L(w)=\\prod_{i=1}^{n} \\sigma(w^T\\mathbf{x}^{(i)})^{y^{(i)}}  [1-\\sigma(w^T\\mathbf{x}^{(i)}) ]^{(1-y^{(i)})}\n",
    "$$"
   ]
  },
  {
   "cell_type": "markdown",
   "metadata": {},
   "source": [
    "As usual, it is more convenient to maximize the log of the likelihood function.\n",
    "The log likelihood equation is:\n",
    "\n",
    "$$\n",
    "logL(w)= \\sum_{i=1}^{n} y^{(i)} log(\\sigma(w^T\\mathbf{x^{(i)}})) + (1-y^{(i)}) log(1-\\sigma(w^T\\mathbf{x}^{(i)}))\n",
    "$$\n",
    "This will be our objective function $f$ for gradient ascend.\n",
    "\n",
    "\\textbf{b)} Since the likelihood function is a sum over all of the data, and in calculus the derivative of a sum\n",
    "is the sum of derivatives, we can focus on computing the derivative of one example.<br>\n",
    "We calculate the partial derivatives with respect to a general w we used until now:\n",
    "\n",
    "\\begin{align*}\n",
    "\\frac{\\partial f}{\\partial w} &= \\frac{\\partial }{\\partial w} [y^{(i)} log(\\sigma(w^T\\mathbf{x^{(i)}})) + (1-y^{(i)}) log(1-\\sigma(w^T\\mathbf{x}^{(i)}))] \\\\\n",
    "&= \\frac{\\partial }{\\partial w} [y^{(i)} log(\\sigma(w^T\\mathbf{x^{(i)}}))] + \\frac{\\partial }{\\partial w} [(1-y^{(i)}) log(1-\\sigma(w^T\\mathbf{x}^{(i)}))] \\\\\n",
    "&= \\Bigg[\\frac{y^{(i)}}{\\sigma(w^T\\mathbf{x^{(i)}})} - \\frac{(1-y^{(i)})}{1-\\sigma(w^T\\mathbf{x}^{(i)}))} \\Bigg]\\frac{\\partial }{\\partial w} \\sigma(w^T\\mathbf{x^{(i)}}) \\\\\n",
    "&= \\Bigg[\\frac{y^{(i)} -\\sigma(w^T\\mathbf{x}^{(i)}) }{\\sigma(w^T\\mathbf{x^{(i)}})(1-\\sigma(w^T\\mathbf{x}^{(i)}))}  \\Bigg]\\frac{\\partial }{\\partial w} \\sigma(w^T\\mathbf{x^{(i)}})\n",
    "\\end{align*}\n",
    "\n",
    "We can calculate:\n",
    "$$\n",
    "\\frac{\\partial }{\\partial w} \\sigma(w^T\\mathbf{x^{(i)}}) =  \\frac{e^{-w^T\\mathbf{x^{(i)}}}}{(1+e^{-w^T\\mathbf{x^{(i)}}})^2}\\mathbf{x^{(i)}}\n",
    "$$\n",
    "But we see that:\n",
    "$$\n",
    " \\sigma(w^T\\mathbf{x^{(i)}})(1-\\sigma(w^T\\mathbf{x}^{(i)})=  \\frac{e^{-w^T\\mathbf{x^{(i)}}}}{(1+e^{-w^T\\mathbf{x^{(i)}}})^2}\n",
    "$$\n",
    "So after cancelling the same terms the derivative becomes:\n",
    "$$\n",
    "\\frac{\\partial f}{\\partial w}= \\big[y^{(i)} -\\sigma(w^T\\mathbf{x}^{(i)}) \\big]\\mathbf{x^{(i)}}\n",
    "$$\n",
    "To calculate the partial derivatives with respect to $w_0$ and with respect to an arbitrary $w_j$ we modify the above equation and we return the sum we omitted earlier for simplicity, like this:\n",
    "$$\n",
    "\\frac{\\partial f}{\\partial w_0} = \\sum_{i=1}^{n} \\big[y^{(i)} -\\sigma(w^T\\mathbf{x}^{(i)}) \\big]\n",
    "\\\\\n",
    "\\frac{\\partial f}{\\partial w_j} = \\sum_{i=1}^{n} \\big[y^{(i)} -\\sigma(w^T\\mathbf{x}^{(i)}) \\big]{x^{(i)}_j}\n",
    "$$"
   ]
  },
  {
   "cell_type": "markdown",
   "metadata": {},
   "source": [
    "\\textbf{c)} We implement a logistic regression classifier using gradient ascent.<br>\n",
    "First we will implement the following functions:"
   ]
  },
  {
   "cell_type": "code",
   "execution_count": 64,
   "metadata": {
    "ExecuteTime": {
     "end_time": "2019-03-18T17:13:25.505153Z",
     "start_time": "2019-03-18T17:13:25.476Z"
    }
   },
   "outputs": [],
   "source": [
    "# Calculate the logistic regression objective value\n",
    "LR_CalcObj<- function(XTrain,yTrain,wHat){\n",
    "    # get dimensions\n",
    "    n<- dim(XTrain)[1];\n",
    "    p<- dim(XTrain)[2];\n",
    "    # add a feature of 1's to XTrain\n",
    "    bias<-rep(1,nrow(XTrain));\n",
    "    XTrain <- cbind(bias, XTrain);\n",
    "    # precompute X*w and exp(X*w)\n",
    "    Xw  <- XTrain %*% wHat; \n",
    "    eXw <- exp(Xw);\n",
    "    # calculate objective value\n",
    "    obj <- sum(yTrain * Xw - log(1 + eXw));\n",
    "    return (obj)   \n",
    "}\n",
    "\n",
    "# Calculate the gradient of the logistic regression\n",
    "# objective function with respect to each parameter\n",
    "LR_CalcGrad<- function(XTrain,yTrain,wHat){\n",
    "    # get dimensions\n",
    "    n<- dim(XTrain)[1];\n",
    "    p<- dim(XTrain)[2];\n",
    "    # add a feature of 1's to XTrain\n",
    "    bias<-rep(1,nrow(XTrain));\n",
    "    XTrain <- cbind(bias, XTrain);\n",
    "    # precompute X*w and exp(X*w)\n",
    "    Xw  <- XTrain %*% wHat ;\n",
    "    eXw <- exp(Xw); \n",
    "    # calculate gradient\n",
    "    grad <- t( colSums( kronecker(matrix(1,1,p+1),yTrain) * XTrain - XTrain * kronecker(matrix(1,1,p+1),eXw /(1+eXw))));\n",
    "    return (grad)\n",
    "}\n",
    "\n",
    "# Calculate the new value of wHat using the gradient \n",
    "# ascent update rule\n",
    "LR_UpdateParams<- function(wHat,grad,eta){\n",
    "  # update value of w\n",
    "  wHat = as.vector(wHat) + as.vector(eta * grad);\n",
    "  return(wHat)\n",
    "}\n",
    "\n",
    "# Check whether the objective value has converged \n",
    "# by comparing the difference between consecutive \n",
    "# objective values to the tolerance\n",
    "LR_CheckConvg<- function(oldObj,newObj,tol){\n",
    "    # compute difference between objectives\n",
    "    diff <- abs(oldObj-newObj);\n",
    "    # compare difference to tolerance\n",
    "    if (diff < tol){\n",
    "        hasConverged <- TRUE;\n",
    "    } \n",
    "    else{\n",
    "        hasConverged <- FALSE;\n",
    "    }\n",
    "    return(hasConverged);\n",
    "}"
   ]
  },
  {
   "cell_type": "code",
   "execution_count": 65,
   "metadata": {
    "ExecuteTime": {
     "end_time": "2019-03-18T17:13:26.342258Z",
     "start_time": "2019-03-18T17:13:26.322Z"
    }
   },
   "outputs": [],
   "source": [
    "# Run the gradient ascent algorithm for logistic regression  [wHat,objVals]\n",
    "LR_GradientAscent<- function(XTrain,yTrain){\n",
    "    # Set the step size\n",
    "    eta = 0.01;    \n",
    "    # Set the convergence tolerance\n",
    "    tol = 0.001;\n",
    "\n",
    "    # Get dimensions\n",
    "    n<- dim(XTrain)[1];\n",
    "    p<- dim(XTrain)[2];\n",
    "\n",
    "    # Initialize wHat\n",
    "    wHat <- matrix(0,p+1,1);\n",
    "\n",
    "    # Initialize objVals\n",
    "    objVals <- as.matrix( LR_CalcObj(XTrain,yTrain,wHat));    \n",
    "    # Initialize convergence flag\n",
    "    hasConverged <- FALSE;\n",
    "\n",
    "    # Run gradient ascent until convergence\n",
    "    while ( !hasConverged ){   \n",
    "\n",
    "        # Calculate gradient\n",
    "        grad <- LR_CalcGrad(XTrain,yTrain,wHat);\n",
    "\n",
    "        # Update parameter estimate\n",
    "        wHat <- LR_UpdateParams(wHat,grad,eta);\n",
    "\n",
    "        # Calculate new objective\n",
    "        newObj <- as.vector(LR_CalcObj(XTrain,yTrain,wHat));\n",
    "\n",
    "        # Check convergence\n",
    "        hasConverged <- LR_CheckConvg( as.vector(objVals[,ncol(objVals)]),newObj,tol);\n",
    "\n",
    "        # Store new objective\n",
    "        objVals <- cbind(objVals, newObj);        \n",
    "    }\n",
    "    return( list(wHat,objVals))\n",
    "}"
   ]
  },
  {
   "cell_type": "code",
   "execution_count": 66,
   "metadata": {
    "ExecuteTime": {
     "end_time": "2019-03-18T17:13:26.916513Z",
     "start_time": "2019-03-18T17:13:26.896Z"
    }
   },
   "outputs": [],
   "source": [
    "# Predict the labels for a test set using logistic regression  [yHat,numErrors]\n",
    "LR_PredictLabels<- function(XTest,yTest,wHat){\n",
    "  \n",
    "  # Get dimensions\n",
    "  m<- dim(XTest)[1];\n",
    "  p<- dim(XTest)[2];\n",
    "  \n",
    "  # add a feature of 1's to XTrain\n",
    "  bias  <-rep(1,nrow(XTest));\n",
    "  XTest <- cbind(bias, XTest);\n",
    "  \n",
    "  # precompute X*w and exp(X*w)\n",
    "  Xw = XTest %*% wHat;\n",
    "  eXw = exp(Xw);\n",
    "  \n",
    "  # calculate p(Y=0)\n",
    "  pY0 = 1 /(1 + eXw);\n",
    "  \n",
    "  # calculate p(Y=1)\n",
    "  pY1 = eXw /(1 + eXw);\n",
    "  \n",
    "  # choose best label\n",
    "  \n",
    "  ind <- max.col(cbind(pY0,pY1))\n",
    "  yHat = ind-1;\n",
    "  \n",
    "  # calculate error\n",
    "  numErrors = sum(yHat != yTest);\n",
    "  \n",
    "  return(list(yHat,numErrors))\n",
    "}"
   ]
  },
  {
   "cell_type": "markdown",
   "metadata": {},
   "source": [
    "\\textbf{d)} We train our logistic regression classifier on the data provided in XTrain and yTrain with LR GradientAscent,<br>\n",
    "and then we get the estimated parameters wHat to calculate predicted labels for the data in XTest with LR PredictLabels.\n"
   ]
  },
  {
   "cell_type": "code",
   "execution_count": 67,
   "metadata": {
    "ExecuteTime": {
     "end_time": "2019-03-18T17:13:28.794779Z",
     "start_time": "2019-03-18T17:13:28.681Z"
    },
    "scrolled": true
   },
   "outputs": [
    {
     "name": "stdout",
     "output_type": "stream",
     "text": [
      "Number of misclassified examples in the test set: 13\n"
     ]
    }
   ],
   "source": [
    "XTrain<-read.csv(\"XTrain.csv\", header =F);\n",
    "yTrain<-read.csv(\"yTrain.csv\", header =F);\n",
    "XTest<-read.csv(\"XTest.csv\", header =F);\n",
    "yTest<-read.csv(\"yTest.csv\", header =F);\n",
    "\n",
    "XTrain<-as.matrix(XTrain)\n",
    "yTrain<-as.matrix(yTrain)\n",
    "XTest<-as.matrix(XTest)\n",
    "yTest<-as.matrix(yTest)\n",
    "\n",
    "out<-LR_GradientAscent(XTrain,yTrain);\n",
    "wHat<-out[[1]]\n",
    "objVals<-out[[2]]\n",
    "\n",
    "out<-LR_PredictLabels(XTest,yTest,wHat)\n",
    "yHat<-out[[1]]\n",
    "numErrors<-out[[2]]\n",
    "\n",
    "cat(sprintf(\"Number of misclassified examples in the test set: %d\\n\", numErrors))"
   ]
  },
  {
   "cell_type": "markdown",
   "metadata": {},
   "source": [
    "\\textbf{e)}  As we see above we get 13 misclassified examples. \n",
    "\n",
    "\\textbf{f)}  We plot the value of the objective function on each iteration of gradient descent, with the iteration number\n",
    "on the horizontal axis and the objective value on the vertical axis."
   ]
  },
  {
   "cell_type": "code",
   "execution_count": 68,
   "metadata": {
    "ExecuteTime": {
     "end_time": "2019-03-18T17:13:30.057099Z",
     "start_time": "2019-03-18T17:13:30.005Z"
    }
   },
   "outputs": [
    {
     "name": "stdout",
     "output_type": "stream",
     "text": [
      "-->Gradient ascent coverges after 87 iterations\n"
     ]
    },
    {
     "data": {
      "image/png": "[encoded data removed]",
      "text/plain": [
       "Plot with title \"Convergence of Gradient Ascent for Logistic Regression\""
      ]
     },
     "metadata": {},
     "output_type": "display_data"
    }
   ],
   "source": [
    "# Plot the objective value per iteration\n",
    "options(repr.plot.width=6, repr.plot.height=5)\n",
    "plot( \n",
    "    1:length(objVals),\n",
    "    objVals,\n",
    "    type=\"l\",\n",
    "    col=\"blue\",\n",
    "    main=\"Convergence of Gradient Ascent for Logistic Regression\" ,\n",
    "    xlab=\"Gradient Ascent Iteration\" ,\n",
    "    ylab=\"Logistic Regression Objective Value\"\n",
    ");\n",
    "\n",
    "cat(sprintf(\"-->Gradient ascent coverges after %d iterations\\n\", length(objVals)-1))"
   ]
  },
  {
   "cell_type": "markdown",
   "metadata": {},
   "source": [
    "\\textbf{g)} We will evaluate now, how the training and test error change as the training set size increases.\n",
    "\n"
   ]
  },
  {
   "cell_type": "code",
   "execution_count": 73,
   "metadata": {
    "ExecuteTime": {
     "end_time": "2019-03-18T17:23:48.293120Z",
     "start_time": "2019-03-18T17:23:45.856Z"
    }
   },
   "outputs": [],
   "source": [
    "# Evaluate the training and test erorr as a function of training set size\n",
    "n<- dim(XTrain)[1];\n",
    "kVals <- seq(10,n,by=10);\n",
    "m<- dim(XTest)[1];\n",
    "trainingError <- matrix(0,length(kVals),1);\n",
    "testError <- matrix(0,length(kVals),1);\n",
    "\n",
    "for (kInd in 1:length(kVals)){\n",
    "    # Set k\n",
    "    k <- kVals[kInd];\n",
    "    \n",
    "    # Generate training set\n",
    "    subsetInds <- sample(n,k,replace = F);\n",
    "    XTrainSubset <- XTrain[subsetInds,];\n",
    "    yTrainSubset <- yTrain[subsetInds];\n",
    "    \n",
    "    # Train logistic regression\n",
    "    out<- LR_GradientAscent(XTrainSubset,yTrainSubset);\n",
    "    wHat<-out[[1]]\n",
    "    \n",
    "     # Test classifier on training set\n",
    "    out<- LR_PredictLabels(XTrainSubset,yTrainSubset,wHat);\n",
    "    yHatTrain<-out[[1]]\n",
    "    numErrorsTrain<-out[[2]]\n",
    "    trainingError[kInd] <- numErrorsTrain/k;\n",
    "    \n",
    "    # Test classifier on test set\n",
    "    out<- LR_PredictLabels(XTest,yTest,wHat);\n",
    "    yHatTest<-out[[1]]\n",
    "    numErrorsTest<-out[[2]]\n",
    "    testError[kInd] <- numErrorsTest/m;\n",
    "}"
   ]
  },
  {
   "cell_type": "code",
   "execution_count": 89,
   "metadata": {
    "ExecuteTime": {
     "end_time": "2019-03-18T17:34:13.965432Z",
     "start_time": "2019-03-18T17:34:13.909Z"
    }
   },
   "outputs": [
    {
     "data": {
      "image/png": "[encoded data removed]",
      "text/plain": [
       "Plot with title \"Logistic Regression Performance by Training Set Size\""
      ]
     },
     "metadata": {},
     "output_type": "display_data"
    }
   ],
   "source": [
    "options(repr.plot.width=6, repr.plot.height=6)\n",
    "plot( \n",
    "    kVals,\n",
    "    trainingError,\n",
    "    type=\"l\",\n",
    "    col=\"blue\",\n",
    "    main=\"Logistic Regression Performance by Training Set Size\" ,\n",
    "    xlab=\"Training Set Size\" ,\n",
    "    ylab=\"Prediction Error\"  ,\n",
    "    ylim= c(0,0.20) \n",
    ");\n",
    "lines(kVals,testError, col=\"red\")\n",
    "legend(\"topright\",c(\"Training Error \",\"Test Error\"),fill=c(\"blue\",\"red\"))"
   ]
  },
  {
   "cell_type": "markdown",
   "metadata": {},
   "source": [
    "When we increase the Training Set Size, our model can't remember all training data, but it will try to find some general setting that applies to the majority of training data for reducing loss during training. \n",
    "\n",
    "With small Training Sets we have overfiting and that is the reason we have high Test Error and zero Training Error with very small Training Set Size.\n",
    "\n",
    "We see that the Test Error decreases as the Training Set Size grows. This happens because, the bigger the Training Set becomes, the better the predictions are of our model. It becomes more and more efficient.\n",
    "\n",
    "But we observe that the opposite happens for our Training Error, that it is increasing as the Training Set Size grows.<br>\n",
    "This happens because the 13 misclassified examples in the Test Set we saw earlier, have greater chance to be selected for training, as the Training Set Size grows. Those points cannot be classified correctly so they are the reason the Training Error increases.\n",
    "\n",
    "\\textbf{h)} To get the decision boundary we want:\n",
    "\n",
    "$$\n",
    "P(Y=C1|\\mathbf{x^{(i)}}) = \\sigma(w^T\\mathbf{x^{(i)}}) = 0.5\n",
    "$$\n",
    "in other words:\n",
    "$$\n",
    "\\sigma(w^T\\mathbf{x^{(i)}}) =  \\frac{1}{1 + e^{-(w_0 + w_1 x^{(i)}_1 + w_2 x^{(i)}_2 + ... + w_p x^{(i)}_p)}} =0.5\n",
    "$$\n",
    "This is possible if:\n",
    "$$\n",
    "e^{-(w_0 + w_1 x^{(i)}_1 + w_2 x^{(i)}_2 + ... + w_p x^{(i)}_p)} = e^0 = 1\n",
    "$$\n",
    "So we neet to have:\n",
    "$$\n",
    "w_0 + w_1 x^{(i)}_1 + w_2 x^{(i)}_2 + ... + w_p x^{(i)}_p =0\n",
    "$$\n",
    "\n",
    "which is a hyperplane in p dimensions, a plane in 3 dimensions and a line in 2 dimensions. <br>\n",
    "To understand it in better let's use p=2:\n",
    "$$\n",
    "w_0 + w_1 x^{(i)}_1 + w_2 x^{(i)}_2 =0\n",
    "$$\n",
    "we can express it with respect to $x_2$ to take the line formila we all know:\n",
    "$$\n",
    "x^{(i)}_2 =  -\\frac{w_0}{w_2} -\\frac{w_1}{w_2} x^{(i)}_1\n",
    "$$\n",
    "this looks like $ y= b + ax$"
   ]
  },
  {
   "cell_type": "markdown",
   "metadata": {
    "ExecuteTime": {
     "end_time": "2019-03-18T20:29:40.451352Z",
     "start_time": "2019-03-18T20:29:40.312Z"
    }
   },
   "source": [
    "\\textbf{i)} To plot the decision boundary we use the formula from above.\n",
    "I was implemented like this:"
   ]
  },
  {
   "cell_type": "code",
   "execution_count": 122,
   "metadata": {
    "ExecuteTime": {
     "end_time": "2019-03-18T21:21:42.468073Z",
     "start_time": "2019-03-18T21:21:42.347Z"
    }
   },
   "outputs": [
    {
     "data": {
      "image/png": "[encoded data removed]",
      "text/plain": [
       "Plot with title \"Logistic Regression Decision Boundary\""
      ]
     },
     "metadata": {},
     "output_type": "display_data"
    }
   ],
   "source": [
    "# Train logistic regression\n",
    "out<-LR_GradientAscent(XTrain,yTrain);\n",
    "wHat<-out[[1]]\n",
    "objVals<-out[[2]]\n",
    "\n",
    "# Plot data in 2d\n",
    "j=2; k=3;\n",
    "ind0 = yTest == 0;\n",
    "ind1 = yTest == 1;\n",
    "\n",
    "options(repr.plot.width=6, repr.plot.height=6)\n",
    "plot( \n",
    "    XTest[ind0,j],\n",
    "    XTest[ind0,k],\n",
    "    col=\"red\",\n",
    "    main=\"Logistic Regression Decision Boundary\" ,\n",
    "    xlab=sprintf('Dimension %d',j) ,\n",
    "    ylab=sprintf('Dimension %d',k) ,\n",
    "    ylim= c(-4,4),\n",
    "    xlim= c(-4,4)\n",
    ");\n",
    "lines(XTest[ind1,j],XTest[ind1,k], type=\"p\" ,col=\"blue\")\n",
    "\n",
    "# Calculate decision boundary\n",
    "dbDimJ = seq(min(XTest[,j]), max(XTest[,j]) ,by=0.01);\n",
    "dbDimK = -( wHat[1] + wHat[j+1] * dbDimJ) / wHat[k+1];\n",
    "\n",
    "lines(dbDimJ,dbDimK, type=\"l\" ,col=\"black\", lwd=3)"
   ]
  }
 ],
 "metadata": {
  "kernelspec": {
   "display_name": "R",
   "language": "R",
   "name": "ir"
  },
  "language_info": {
   "codemirror_mode": "r",
   "file_extension": ".r",
   "mimetype": "text/x-r-source",
   "name": "R",
   "pygments_lexer": "r",
   "version": "3.5.1"
  },
  "latex_envs": {
   "LaTeX_envs_menu_present": true,
   "autoclose": false,
   "autocomplete": true,
   "bibliofile": "biblio.bib",
   "cite_by": "apalike",
   "current_citInitial": 1,
   "eqLabelWithNumbers": true,
   "eqNumInitial": 1,
   "hotkeys": {
    "equation": "Ctrl-E",
    "itemize": "Ctrl-I"
   },
   "labels_anchors": false,
   "latex_user_defs": false,
   "report_style_numbering": false,
   "user_envs_cfg": false
  },
  "toc": {
   "base_numbering": 1,
   "nav_menu": {},
   "number_sections": false,
   "sideBar": true,
   "skip_h1_title": false,
   "title_cell": "Table of Contents",
   "title_sidebar": "Contents",
   "toc_cell": false,
   "toc_position": {
    "height": "calc(100% - 180px)",
    "left": "10px",
    "top": "150px",
    "width": "258.875px"
   },
   "toc_section_display": true,
   "toc_window_display": false
  },
  "varInspector": {
   "cols": {
    "lenName": 16,
    "lenType": 16,
    "lenVar": 40
   },
   "kernels_config": {
    "python": {
     "delete_cmd_postfix": "",
     "delete_cmd_prefix": "del ",
     "library": "var_list.py",
     "varRefreshCmd": "print(var_dic_list())"
    },
    "r": {
     "delete_cmd_postfix": ") ",
     "delete_cmd_prefix": "rm(",
     "library": "var_list.r",
     "varRefreshCmd": "cat(var_dic_list()) "
    }
   },
   "types_to_exclude": [
    "module",
    "function",
    "builtin_function_or_method",
    "instance",
    "_Feature"
   ],
   "window_display": false
  }
 },
 "nbformat": 4,
 "nbformat_minor": 2
}

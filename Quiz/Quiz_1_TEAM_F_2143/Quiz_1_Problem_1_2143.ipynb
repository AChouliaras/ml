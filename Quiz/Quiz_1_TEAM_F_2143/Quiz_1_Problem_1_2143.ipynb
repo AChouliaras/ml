{
 "cells": [
  {
   "cell_type": "markdown",
   "metadata": {},
   "source": [
    "# Home Quiz 1 - Logistic Regression\n",
    "\n",
    "## Problem 1: Gradient Descent\n",
    "\n",
    "#### Team F\n",
    "Andreas Chouliaras 2143\n"
   ]
  },
  {
   "cell_type": "markdown",
   "metadata": {},
   "source": [
    "Our model for this problem is:\n",
    "\n",
    "$$y = w_0 + w_1x_1 + w_2x_2 + w_3x_1^2 + \\epsilon \\qquad \\text{ where } \\epsilon \\sim \\mathcal{N}(0, \\sigma^2)$$\n",
    "\n",
    "where the learning algorithm will estimate the parameters $w_0$, $w_1$, $w_2$, and $w_3$.\n",
    "\n",
    "Because $\\epsilon$ follows a normal distribution, y also follows a normal distribution with:\n",
    "\n",
    "$$\n",
    "y | \\mathbf x \\sim \\mathcal N ({ w_0 + w_1x_1 + w_2x_2 + w_3x_1^2},{ \\sigma^2})\n",
    "$$\n",
    "\n",
    "\\textbf{a)} So $P(y|x_1,x_2)$ is given by the following expression:\n",
    "\n",
    "$$P(y|x_1,x_2) = \\frac{1}{\\sqrt{2 \\pi \\sigma^2}} \\exp\\left(-\\frac{1}{2 \\sigma^2} \\left(y -  w_0 - w_1x_1 - w_2x_2 - w_3x_1^2\\right)^2 \\right)$$\n",
    "\n",
    "\\textbf{b)} Given a set of training observations $(x^{(i)}_1 , x^{(i)}_2 , y^{(i)})$ for $i = 1, ... ,n $, the conditional log likelihood of this training data is given as:\n",
    "$$\\log P(y|x_1,x_2) = - \\sum_{i=1}^n \\left(y^{(i)} -  w_0 - w_1x^{(i)}_1 - w_2x^{(i)}_2 - w_3x_1^{2(i)}\\right)^2$$"
   ]
  },
  {
   "cell_type": "markdown",
   "metadata": {},
   "source": [
    "\\textbf{c)}  To find the desired parameter estimates we need to maximize the conditional loglikelihood from above.<br>\n",
    "\n",
    "The problem is the same if we try to minimize the function $f(w0,w1,w2,w3)$, that is defined as the opposite<br>\n",
    "of the conditional loglikelihood, as this:\n",
    "\n",
    "$$\n",
    " f(w0,w1,w2,w3)= - \\log P(y|x_1,x_2) = \\sum_{i=1}^n \\left(y^{(i)} -  w_0 - w_1x^{(i)}_1 - w_2x^{(i)}_2 - w_3x_1^{2(i)}\\right)^2\n",
    "$$\n",
    "\n",
    "So our aim is now to minimize $f$ to find the desired parameter estimates\n",
    "\n",
    "\\textbf{d)}  So now we need to calculate the gradient of $f(w)$  where $w = [w_0,w_1,w_2,w_3]^T$. We get:\n",
    "\n",
    "$$\n",
    " \\nabla_w{f(w)} = \\left[ \\frac{\\partial f(w)}{\\partial w_0} , \\frac{\\partial f(w)}{\\partial w_1} , \\frac{\\partial f(w)}{\\partial w_2} , \\frac{\\partial f(w)}{\\partial w_3} \\right]^T\n",
    "$$\n",
    "\n",
    "$$\n",
    "\\nabla_w{f(w)}=\n",
    "\\left[\\begin{array}{c} \n",
    "\\sum_{i=1}^N \\left(y^{(i)} - w_0 - w_1x^{(i)}_1 - w_2x^{(i)}_2 - w_3x_1^{2(i)}\\right)(-1) \\\\\n",
    "\\sum_{i=1}^N \\left(y^{(i)} - w_0 - w_1x^{(i)}_1 - w_2x^{(i)}_2 - w_3x_1^{2(i)}\\right)(-x^{(i)}_1) \\\\\n",
    "\\sum_{i=1}^N \\left(y^{(i)} - w_0 - w_1x^{(i)}_1 - w_2x^{(i)}_2 - w_3x_1^{2(i)}\\right)(-x^{(i)}_2) \\\\\n",
    "\\sum_{i=1}^N \\left(y^{(i)} - w_0 - w_1x^{(i)}_1 - w_2x^{(i)}_2 - w_3x_1^{2(i)}\\right)(-2x^{(i)}_1) \\\\\n",
    "\\end{array}\n",
    "\\right]\n",
    "$$"
   ]
  },
  {
   "cell_type": "markdown",
   "metadata": {},
   "source": [
    "\\textbf{e)} The gradient descent update rule for our weights $\\mathbf{w}$ is:\n",
    "\n",
    "$${\\mathbf{w}^{(t+1)}} = {\\mathbf{w}^{(t)}} - \\lambda \\nabla f({\\mathbf{w}^{(t)}}), \\quad t =1,2,3,\\ldots $$\n",
    "\n",
    "\\textbf{f)}\n",
    "We use sympy library to calculate the partial derivatives:"
   ]
  },
  {
   "cell_type": "code",
   "execution_count": 13,
   "metadata": {
    "ExecuteTime": {
     "end_time": "2019-03-16T16:52:09.849159Z",
     "start_time": "2019-03-16T16:52:09.835272Z"
    }
   },
   "outputs": [
    {
     "name": "stdout",
     "output_type": "stream",
     "text": [
      "Partial derivative with respect to w0 w0 + w1*x1 + w2*x2 + w3*x1**2 - y\n",
      "Partial derivative with respect to w1 -x1*(-w0 - w1*x1 - w2*x2 - w3*x1**2 + y)\n",
      "Partial derivative with respect to w2 -x2*(-w0 - w1*x1 - w2*x2 - w3*x1**2 + y)\n",
      "Partial derivative with respect to w3 -x1**2*(-w0 - w1*x1 - w2*x2 - w3*x1**2 + y)\n"
     ]
    }
   ],
   "source": [
    "import sympy as sym\n",
    "\n",
    "y = sym.symbols('y')\n",
    "x1= sym.symbols('x1')\n",
    "x2= sym.symbols('x2')\n",
    "w0= sym.symbols('w0')\n",
    "w1= sym.symbols('w1')\n",
    "w2= sym.symbols('w2')\n",
    "w3= sym.symbols('w3')\n",
    "\n",
    "f= ( y- w0 -w1*x1 -w2*x2 -w3*x1**2)**2\n",
    "print('Partial derivative with respect to w0',sym.diff(f,w0) /2 )\n",
    "print('Partial derivative with respect to w1',sym.diff(f,w1) /2 )\n",
    "print('Partial derivative with respect to w2',sym.diff(f,w2) /2 )\n",
    "print('Partial derivative with respect to w3',sym.diff(f,w3) /2 )"
   ]
  },
  {
   "cell_type": "markdown",
   "metadata": {},
   "source": [
    "As we see it agrees with the formula we derived earlier"
   ]
  }
 ],
 "metadata": {
  "kernelspec": {
   "display_name": "Python 3",
   "language": "python",
   "name": "python3"
  },
  "language_info": {
   "codemirror_mode": {
    "name": "ipython",
    "version": 3
   },
   "file_extension": ".py",
   "mimetype": "text/x-python",
   "name": "python",
   "nbconvert_exporter": "python",
   "pygments_lexer": "ipython3",
   "version": "3.6.8"
  },
  "latex_envs": {
   "LaTeX_envs_menu_present": true,
   "autoclose": false,
   "autocomplete": true,
   "bibliofile": "biblio.bib",
   "cite_by": "apalike",
   "current_citInitial": 1,
   "eqLabelWithNumbers": true,
   "eqNumInitial": 1,
   "hotkeys": {
    "equation": "Ctrl-E",
    "itemize": "Ctrl-I"
   },
   "labels_anchors": false,
   "latex_user_defs": false,
   "report_style_numbering": false,
   "user_envs_cfg": false
  },
  "toc": {
   "base_numbering": 1,
   "nav_menu": {},
   "number_sections": false,
   "sideBar": true,
   "skip_h1_title": false,
   "title_cell": "Table of Contents",
   "title_sidebar": "Contents",
   "toc_cell": false,
   "toc_position": {},
   "toc_section_display": true,
   "toc_window_display": false
  },
  "varInspector": {
   "cols": {
    "lenName": 16,
    "lenType": 16,
    "lenVar": 40
   },
   "kernels_config": {
    "python": {
     "delete_cmd_postfix": "",
     "delete_cmd_prefix": "del ",
     "library": "var_list.py",
     "varRefreshCmd": "print(var_dic_list())"
    },
    "r": {
     "delete_cmd_postfix": ") ",
     "delete_cmd_prefix": "rm(",
     "library": "var_list.r",
     "varRefreshCmd": "cat(var_dic_list()) "
    }
   },
   "types_to_exclude": [
    "module",
    "function",
    "builtin_function_or_method",
    "instance",
    "_Feature"
   ],
   "window_display": false
  }
 },
 "nbformat": 4,
 "nbformat_minor": 2
}

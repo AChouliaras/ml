{
 "cells": [
  {
   "cell_type": "markdown",
   "metadata": {},
   "source": [
    "# Lab 1 Spark implementation\n",
    "\n",
    "### TEAM F\n",
    "Chouliarias Andreas 2143\n",
    "\n",
    "Matzoros Christos-Konstantinos 2169\n",
    "\n",
    "Pappas Apostolos 2109\n",
    "\n",
    "The section bellow imports the winequality-red.csv dataset that is about red wines. It is implemented in IBM Watson Studio."
   ]
  },
  {
   "cell_type": "code",
   "execution_count": 164,
   "metadata": {},
   "outputs": [],
   "source": [
    "import ibmos2spark\n",
    "# @hidden_cell\n",
    "credentials = {\n",
    "    'endpoint': 'https://s3-api.us-geo.objectstorage.service.networklayer.com',\n",
    "    'service_id': 'iam-ServiceId-0b9a0e48-0866-409f-ba74-68779995a703',\n",
    "    'iam_service_endpoint': 'https://iam.bluemix.net/oidc/token',\n",
    "    'api_key': 'sdZ8O2iAAR3wmataGXBRlupSSvC59vNRURnzhD6yJvjn'\n",
    "}\n",
    "\n",
    "configuration_name = 'os_42ab0f413afd4dafbd1616d8723b81bc_configs'\n",
    "cos = ibmos2spark.CloudObjectStorage(sc, credentials, configuration_name, 'bluemix_cos')\n",
    "\n",
    "from pyspark.sql import SparkSession\n",
    "spark = SparkSession.builder.getOrCreate()\n",
    "df_data_1 = spark.read\\\n",
    "  .format('org.apache.spark.sql.execution.datasources.csv.CSVFileFormat')\\\n",
    "  .option('header', 'true')\\\n",
    "  .load(cos.url('winequality-red.csv', 'sparkinmachinelearning-donotdelete-pr-cm2t5jr1q3edzz'))"
   ]
  },
  {
   "cell_type": "markdown",
   "metadata": {},
   "source": [
    "We will select 'fixed acidity' and 'pH' features to implement the linear regression."
   ]
  },
  {
   "cell_type": "code",
   "execution_count": 165,
   "metadata": {
    "scrolled": true
   },
   "outputs": [],
   "source": [
    "from pyspark.ml.regression import LinearRegression\n",
    "from pyspark.mllib.regression import LabeledPoint\n",
    "from pyspark.mllib.util import MLUtils\n",
    "from pyspark.ml.evaluation import RegressionEvaluator\n",
    "from pyspark.ml.tuning import ParamGridBuilder, TrainValidationSplit\n",
    "from pyspark.sql import types \n",
    "from pyspark.sql.functions import rand \n",
    "\n",
    "data = df_data_1.select([c for c in df_data_1.columns if c in ['fixed acidity','pH']])\n",
    "\n",
    "data = data.withColumn(\"fixed acidity\", data[\"fixed acidity\"].cast(\"double\"))\n",
    "data = data.withColumn(\"pH\", data[\"pH\"].cast(\"double\"))"
   ]
  },
  {
   "cell_type": "markdown",
   "metadata": {},
   "source": [
    "We prepare our dataframe to fit in our model."
   ]
  },
  {
   "cell_type": "code",
   "execution_count": 166,
   "metadata": {},
   "outputs": [],
   "source": [
    "from pyspark.ml.feature import VectorAssembler\n",
    "\n",
    "vectorAssembler = VectorAssembler(inputCols = ['fixed acidity'], outputCol = 'features')\n",
    "data = vectorAssembler.transform(data)\n",
    "data = data.select(['features', 'pH'])"
   ]
  },
  {
   "cell_type": "markdown",
   "metadata": {},
   "source": [
    "We split our dataframe to train set and test set with ratios 70-30 %."
   ]
  },
  {
   "cell_type": "code",
   "execution_count": 167,
   "metadata": {},
   "outputs": [],
   "source": [
    "train, test = data.randomSplit([0.7, 0.3], seed=1)\n",
    "\n",
    "train = train.orderBy(rand())\n",
    "test = test.orderBy(rand())"
   ]
  },
  {
   "cell_type": "markdown",
   "metadata": {},
   "source": [
    "We construct our Linear Regression model.<br> We train the model with the train set and we print:<br> The Coefficients, The Intercept, The MSE and The $R^2$."
   ]
  },
  {
   "cell_type": "code",
   "execution_count": 168,
   "metadata": {},
   "outputs": [
    {
     "name": "stdout",
     "output_type": "stream",
     "text": [
      "Coefficients: [-0.0587359790593]\n",
      "Intercept: 3.801089734458954\n",
      "MSE: 0.012421\n",
      "r2: 0.464073\n"
     ]
    }
   ],
   "source": [
    "lr = LinearRegression(featuresCol = 'features', labelCol='pH')\n",
    "lr_model = lr.fit(train)\n",
    "\n",
    "print(\"Coefficients: \" + str(lr_model.coefficients))\n",
    "print(\"Intercept: \" + str(lr_model.intercept))\n",
    "\n",
    "trainingSummary = lr_model.summary\n",
    "print(\"MSE: %f\" % trainingSummary.meanSquaredError)\n",
    "print(\"r2: %f\" % trainingSummary.r2)"
   ]
  },
  {
   "cell_type": "markdown",
   "metadata": {},
   "source": [
    "We use the test set to make the predictions that we will later use to plot the regression line."
   ]
  },
  {
   "cell_type": "code",
   "execution_count": 169,
   "metadata": {},
   "outputs": [
    {
     "name": "stdout",
     "output_type": "stream",
     "text": [
      "+------------------+----+--------+\n",
      "|        prediction|  pH|features|\n",
      "+------------------+----+--------+\n",
      "|3.4545474580089937| 3.5|   [5.9]|\n",
      "| 3.413432272667473| 3.4|   [6.6]|\n",
      "|3.2430979333954584|3.18|   [9.5]|\n",
      "| 3.407558674761541|3.39|   [6.7]|\n",
      "|3.3958114789496783|3.22|   [6.9]|\n",
      "+------------------+----+--------+\n",
      "only showing top 5 rows\n",
      "\n"
     ]
    }
   ],
   "source": [
    "from pyspark.ml.evaluation import RegressionEvaluator\n",
    "\n",
    "predictions = lr_model.transform(test)\n",
    "predictions.select(\"prediction\",\"pH\",\"features\").show(5)"
   ]
  },
  {
   "cell_type": "markdown",
   "metadata": {},
   "source": [
    "We transform our data to numpy arrays to make the plot"
   ]
  },
  {
   "cell_type": "code",
   "execution_count": 170,
   "metadata": {},
   "outputs": [
    {
     "data": {
      "image/png": "[encoded data removed]",
      "text/plain": [
       "<matplotlib.figure.Figure at 0x2b02fab1f358>"
      ]
     },
     "metadata": {},
     "output_type": "display_data"
    }
   ],
   "source": [
    "import numpy as np\n",
    "\n",
    "trainX=np.array(train.select('features').collect()).reshape(-1, 1) \n",
    "trainY=np.array(train.select('pH').collect()).reshape(-1, 1) \n",
    "test=np.array(test.select('features').collect()).reshape(-1, 1) \n",
    "predictions=np.array(predictions.select('prediction').collect()).reshape(-1, 1) \n",
    "\n",
    "plt.plot(trainX, trainY ,'bo')\n",
    "plt.plot(test, predictions, \"r-\")\n",
    "plt.xlabel(r'FixedAcidity')\n",
    "plt.ylabel(r'$pH$')\n",
    "plt.title(r'PySpark linear regression ')\n",
    "plt.show()"
   ]
  },
  {
   "cell_type": "markdown",
   "metadata": {},
   "source": [
    "The plot depicts with red the regression line.<br>\n",
    "The plot depicts with blue dots each instance of the dataset."
   ]
  }
 ],
 "metadata": {
  "kernelspec": {
   "display_name": "Python 3",
   "language": "python",
   "name": "python3"
  },
  "language_info": {
   "codemirror_mode": {
    "name": "ipython",
    "version": 3
   },
   "file_extension": ".py",
   "mimetype": "text/x-python",
   "name": "python",
   "nbconvert_exporter": "python",
   "pygments_lexer": "ipython3",
   "version": "3.7.1"
  },
  "latex_envs": {
   "LaTeX_envs_menu_present": true,
   "autoclose": false,
   "autocomplete": true,
   "bibliofile": "biblio.bib",
   "cite_by": "apalike",
   "current_citInitial": 1,
   "eqLabelWithNumbers": true,
   "eqNumInitial": 1,
   "hotkeys": {
    "equation": "Ctrl-E",
    "itemize": "Ctrl-I"
   },
   "labels_anchors": false,
   "latex_user_defs": false,
   "report_style_numbering": false,
   "user_envs_cfg": false
  },
  "toc": {
   "base_numbering": 1,
   "nav_menu": {},
   "number_sections": true,
   "sideBar": true,
   "skip_h1_title": false,
   "title_cell": "Table of Contents",
   "title_sidebar": "Contents",
   "toc_cell": false,
   "toc_position": {},
   "toc_section_display": true,
   "toc_window_display": false
  },
  "varInspector": {
   "cols": {
    "lenName": 16,
    "lenType": 16,
    "lenVar": 40
   },
   "kernels_config": {
    "python": {
     "delete_cmd_postfix": "",
     "delete_cmd_prefix": "del ",
     "library": "var_list.py",
     "varRefreshCmd": "print(var_dic_list())"
    },
    "r": {
     "delete_cmd_postfix": ") ",
     "delete_cmd_prefix": "rm(",
     "library": "var_list.r",
     "varRefreshCmd": "cat(var_dic_list()) "
    }
   },
   "types_to_exclude": [
    "module",
    "function",
    "builtin_function_or_method",
    "instance",
    "_Feature"
   ],
   "window_display": false
  }
 },
 "nbformat": 4,
 "nbformat_minor": 1
}

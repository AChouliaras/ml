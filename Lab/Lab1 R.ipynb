{
 "cells": [
  {
   "cell_type": "markdown",
   "metadata": {},
   "source": [
    "# LAB 1 Linear Regression in R\n",
    "\n",
    "### TEAM F\n",
    "Chouliarias Andreas 2143\n",
    "\n",
    "Matzoros Christos-Konstantinos 2169\n",
    "\n",
    "Pappas Apostolos 2109\n",
    "\n",
    "In this Jupyter Notebook, we apply the Linear Regression algorithm to the fixed acidity and PH relationship. Firstly, we need to obtain the data and store it into a data frame:"
   ]
  },
  {
   "cell_type": "code",
   "execution_count": 9,
   "metadata": {
    "ExecuteTime": {
     "end_time": "2019-03-01T13:56:32.535516Z",
     "start_time": "2019-03-01T13:56:32.501Z"
    }
   },
   "outputs": [
    {
     "data": {
      "text/html": [
       "<table>\n",
       "<thead><tr><th scope=col>fixed.acidity</th><th scope=col>volatile.acidity</th><th scope=col>citric.acid</th><th scope=col>residual.sugar</th><th scope=col>chlorides</th><th scope=col>free.sulfur.dioxide</th><th scope=col>total.sulfur.dioxide</th><th scope=col>density</th><th scope=col>pH</th><th scope=col>sulphates</th><th scope=col>alcohol</th><th scope=col>quality</th></tr></thead>\n",
       "<tbody>\n",
       "\t<tr><td> 7.4  </td><td>0.70  </td><td>0.00  </td><td>1.9   </td><td>0.076 </td><td>11    </td><td>34    </td><td>0.9978</td><td>3.51  </td><td>0.56  </td><td>9.4   </td><td>5     </td></tr>\n",
       "\t<tr><td> 7.8  </td><td>0.88  </td><td>0.00  </td><td>2.6   </td><td>0.098 </td><td>25    </td><td>67    </td><td>0.9968</td><td>3.20  </td><td>0.68  </td><td>9.8   </td><td>5     </td></tr>\n",
       "\t<tr><td> 7.8  </td><td>0.76  </td><td>0.04  </td><td>2.3   </td><td>0.092 </td><td>15    </td><td>54    </td><td>0.9970</td><td>3.26  </td><td>0.65  </td><td>9.8   </td><td>5     </td></tr>\n",
       "\t<tr><td>11.2  </td><td>0.28  </td><td>0.56  </td><td>1.9   </td><td>0.075 </td><td>17    </td><td>60    </td><td>0.9980</td><td>3.16  </td><td>0.58  </td><td>9.8   </td><td>6     </td></tr>\n",
       "\t<tr><td> 7.4  </td><td>0.70  </td><td>0.00  </td><td>1.9   </td><td>0.076 </td><td>11    </td><td>34    </td><td>0.9978</td><td>3.51  </td><td>0.56  </td><td>9.4   </td><td>5     </td></tr>\n",
       "\t<tr><td> 7.4  </td><td>0.66  </td><td>0.00  </td><td>1.8   </td><td>0.075 </td><td>13    </td><td>40    </td><td>0.9978</td><td>3.51  </td><td>0.56  </td><td>9.4   </td><td>5     </td></tr>\n",
       "</tbody>\n",
       "</table>\n"
      ],
      "text/latex": [
       "\\begin{tabular}{r|llllllllllll}\n",
       " fixed.acidity & volatile.acidity & citric.acid & residual.sugar & chlorides & free.sulfur.dioxide & total.sulfur.dioxide & density & pH & sulphates & alcohol & quality\\\\\n",
       "\\hline\n",
       "\t  7.4   & 0.70   & 0.00   & 1.9    & 0.076  & 11     & 34     & 0.9978 & 3.51   & 0.56   & 9.4    & 5     \\\\\n",
       "\t  7.8   & 0.88   & 0.00   & 2.6    & 0.098  & 25     & 67     & 0.9968 & 3.20   & 0.68   & 9.8    & 5     \\\\\n",
       "\t  7.8   & 0.76   & 0.04   & 2.3    & 0.092  & 15     & 54     & 0.9970 & 3.26   & 0.65   & 9.8    & 5     \\\\\n",
       "\t 11.2   & 0.28   & 0.56   & 1.9    & 0.075  & 17     & 60     & 0.9980 & 3.16   & 0.58   & 9.8    & 6     \\\\\n",
       "\t  7.4   & 0.70   & 0.00   & 1.9    & 0.076  & 11     & 34     & 0.9978 & 3.51   & 0.56   & 9.4    & 5     \\\\\n",
       "\t  7.4   & 0.66   & 0.00   & 1.8    & 0.075  & 13     & 40     & 0.9978 & 3.51   & 0.56   & 9.4    & 5     \\\\\n",
       "\\end{tabular}\n"
      ],
      "text/markdown": [
       "\n",
       "fixed.acidity | volatile.acidity | citric.acid | residual.sugar | chlorides | free.sulfur.dioxide | total.sulfur.dioxide | density | pH | sulphates | alcohol | quality | \n",
       "|---|---|---|---|---|---|\n",
       "|  7.4   | 0.70   | 0.00   | 1.9    | 0.076  | 11     | 34     | 0.9978 | 3.51   | 0.56   | 9.4    | 5      | \n",
       "|  7.8   | 0.88   | 0.00   | 2.6    | 0.098  | 25     | 67     | 0.9968 | 3.20   | 0.68   | 9.8    | 5      | \n",
       "|  7.8   | 0.76   | 0.04   | 2.3    | 0.092  | 15     | 54     | 0.9970 | 3.26   | 0.65   | 9.8    | 5      | \n",
       "| 11.2   | 0.28   | 0.56   | 1.9    | 0.075  | 17     | 60     | 0.9980 | 3.16   | 0.58   | 9.8    | 6      | \n",
       "|  7.4   | 0.70   | 0.00   | 1.9    | 0.076  | 11     | 34     | 0.9978 | 3.51   | 0.56   | 9.4    | 5      | \n",
       "|  7.4   | 0.66   | 0.00   | 1.8    | 0.075  | 13     | 40     | 0.9978 | 3.51   | 0.56   | 9.4    | 5      | \n",
       "\n",
       "\n"
      ],
      "text/plain": [
       "  fixed.acidity volatile.acidity citric.acid residual.sugar chlorides\n",
       "1  7.4          0.70             0.00        1.9            0.076    \n",
       "2  7.8          0.88             0.00        2.6            0.098    \n",
       "3  7.8          0.76             0.04        2.3            0.092    \n",
       "4 11.2          0.28             0.56        1.9            0.075    \n",
       "5  7.4          0.70             0.00        1.9            0.076    \n",
       "6  7.4          0.66             0.00        1.8            0.075    \n",
       "  free.sulfur.dioxide total.sulfur.dioxide density pH   sulphates alcohol\n",
       "1 11                  34                   0.9978  3.51 0.56      9.4    \n",
       "2 25                  67                   0.9968  3.20 0.68      9.8    \n",
       "3 15                  54                   0.9970  3.26 0.65      9.8    \n",
       "4 17                  60                   0.9980  3.16 0.58      9.8    \n",
       "5 11                  34                   0.9978  3.51 0.56      9.4    \n",
       "6 13                  40                   0.9978  3.51 0.56      9.4    \n",
       "  quality\n",
       "1 5      \n",
       "2 5      \n",
       "3 5      \n",
       "4 6      \n",
       "5 5      \n",
       "6 5      "
      ]
     },
     "metadata": {},
     "output_type": "display_data"
    }
   ],
   "source": [
    "# dataframe of the csv\n",
    "df <- read.csv(\"winequality-red.csv\", header = TRUE, sep = ',')\n",
    "\n",
    "#print only the first values of the dataframe\n",
    "head(df)\n"
   ]
  },
  {
   "cell_type": "markdown",
   "metadata": {},
   "source": [
    "Now, let's have a look at that relationship and assess its linearity:"
   ]
  },
  {
   "cell_type": "code",
   "execution_count": 10,
   "metadata": {
    "ExecuteTime": {
     "end_time": "2019-03-01T13:56:34.087685Z",
     "start_time": "2019-03-01T13:56:33.962Z"
    },
    "scrolled": false
   },
   "outputs": [
    {
     "name": "stdout",
     "output_type": "stream",
     "text": [
      "Correlation:  -0.6829782"
     ]
    },
    {
     "data": {
      "image/png": "[encoded data removed]",
      "text/plain": [
       "plot without title"
      ]
     },
     "metadata": {},
     "output_type": "display_data"
    }
   ],
   "source": [
    "# plot the relationship\n",
    "plot(df$fixed.acidity, df$pH, xlab = \"Fixed Acidity\", ylab = \"PH\")\n",
    "\n",
    "corr <- cor(df$fixed.acidity, df$pH)\n",
    "cat(\"Correlation: \", corr)"
   ]
  },
  {
   "cell_type": "markdown",
   "metadata": {},
   "source": [
    "The next step is to split the data into a train and test set. We use 70% of the data to train the model and 30% to test the model. We will sample the 70% of the data for training purposes:"
   ]
  },
  {
   "cell_type": "code",
   "execution_count": 11,
   "metadata": {
    "ExecuteTime": {
     "end_time": "2019-03-01T13:56:36.419463Z",
     "start_time": "2019-03-01T13:56:36.374Z"
    }
   },
   "outputs": [
    {
     "data": {
      "text/html": [
       "<table>\n",
       "<thead><tr><th></th><th scope=col>fixed.acidity</th><th scope=col>volatile.acidity</th><th scope=col>citric.acid</th><th scope=col>residual.sugar</th><th scope=col>chlorides</th><th scope=col>free.sulfur.dioxide</th><th scope=col>total.sulfur.dioxide</th><th scope=col>density</th><th scope=col>pH</th><th scope=col>sulphates</th><th scope=col>alcohol</th><th scope=col>quality</th></tr></thead>\n",
       "<tbody>\n",
       "\t<tr><th scope=row>460</th><td>11.6   </td><td>0.580  </td><td>0.66   </td><td>2.2    </td><td>0.074  </td><td>10     </td><td>47     </td><td>1.00080</td><td>3.25   </td><td>0.57   </td><td> 9.0   </td><td>3      </td></tr>\n",
       "\t<tr><th scope=row>1260</th><td> 6.8   </td><td>0.640  </td><td>0.00   </td><td>2.7    </td><td>0.123  </td><td>15     </td><td>33     </td><td>0.99538</td><td>3.44   </td><td>0.63   </td><td>11.3   </td><td>6      </td></tr>\n",
       "\t<tr><th scope=row>654</th><td> 9.4   </td><td>0.330  </td><td>0.59   </td><td>2.8    </td><td>0.079  </td><td> 9     </td><td>30     </td><td>0.99760</td><td>3.12   </td><td>0.54   </td><td>12.0   </td><td>6      </td></tr>\n",
       "\t<tr><th scope=row>1410</th><td> 6.0   </td><td>0.510  </td><td>0.00   </td><td>2.1    </td><td>0.064  </td><td>40     </td><td>54     </td><td>0.99500</td><td>3.54   </td><td>0.93   </td><td>10.7   </td><td>6      </td></tr>\n",
       "\t<tr><th scope=row>1501</th><td> 7.5   </td><td>0.725  </td><td>0.04   </td><td>1.5    </td><td>0.076  </td><td> 8     </td><td>15     </td><td>0.99508</td><td>3.26   </td><td>0.53   </td><td> 9.6   </td><td>5      </td></tr>\n",
       "\t<tr><th scope=row>73</th><td> 7.7   </td><td>0.690  </td><td>0.22   </td><td>1.9    </td><td>0.084  </td><td>18     </td><td>94     </td><td>0.99610</td><td>3.31   </td><td>0.48   </td><td> 9.5   </td><td>5      </td></tr>\n",
       "</tbody>\n",
       "</table>\n"
      ],
      "text/latex": [
       "\\begin{tabular}{r|llllllllllll}\n",
       "  & fixed.acidity & volatile.acidity & citric.acid & residual.sugar & chlorides & free.sulfur.dioxide & total.sulfur.dioxide & density & pH & sulphates & alcohol & quality\\\\\n",
       "\\hline\n",
       "\t460 & 11.6    & 0.580   & 0.66    & 2.2     & 0.074   & 10      & 47      & 1.00080 & 3.25    & 0.57    &  9.0    & 3      \\\\\n",
       "\t1260 &  6.8    & 0.640   & 0.00    & 2.7     & 0.123   & 15      & 33      & 0.99538 & 3.44    & 0.63    & 11.3    & 6      \\\\\n",
       "\t654 &  9.4    & 0.330   & 0.59    & 2.8     & 0.079   &  9      & 30      & 0.99760 & 3.12    & 0.54    & 12.0    & 6      \\\\\n",
       "\t1410 &  6.0    & 0.510   & 0.00    & 2.1     & 0.064   & 40      & 54      & 0.99500 & 3.54    & 0.93    & 10.7    & 6      \\\\\n",
       "\t1501 &  7.5    & 0.725   & 0.04    & 1.5     & 0.076   &  8      & 15      & 0.99508 & 3.26    & 0.53    &  9.6    & 5      \\\\\n",
       "\t73 &  7.7    & 0.690   & 0.22    & 1.9     & 0.084   & 18      & 94      & 0.99610 & 3.31    & 0.48    &  9.5    & 5      \\\\\n",
       "\\end{tabular}\n"
      ],
      "text/markdown": [
       "\n",
       "| <!--/--> | fixed.acidity | volatile.acidity | citric.acid | residual.sugar | chlorides | free.sulfur.dioxide | total.sulfur.dioxide | density | pH | sulphates | alcohol | quality | \n",
       "|---|---|---|---|---|---|\n",
       "| 460 | 11.6    | 0.580   | 0.66    | 2.2     | 0.074   | 10      | 47      | 1.00080 | 3.25    | 0.57    |  9.0    | 3       | \n",
       "| 1260 |  6.8    | 0.640   | 0.00    | 2.7     | 0.123   | 15      | 33      | 0.99538 | 3.44    | 0.63    | 11.3    | 6       | \n",
       "| 654 |  9.4    | 0.330   | 0.59    | 2.8     | 0.079   |  9      | 30      | 0.99760 | 3.12    | 0.54    | 12.0    | 6       | \n",
       "| 1410 |  6.0    | 0.510   | 0.00    | 2.1     | 0.064   | 40      | 54      | 0.99500 | 3.54    | 0.93    | 10.7    | 6       | \n",
       "| 1501 |  7.5    | 0.725   | 0.04    | 1.5     | 0.076   |  8      | 15      | 0.99508 | 3.26    | 0.53    |  9.6    | 5       | \n",
       "| 73 |  7.7    | 0.690   | 0.22    | 1.9     | 0.084   | 18      | 94      | 0.99610 | 3.31    | 0.48    |  9.5    | 5       | \n",
       "\n",
       "\n"
      ],
      "text/plain": [
       "     fixed.acidity volatile.acidity citric.acid residual.sugar chlorides\n",
       "460  11.6          0.580            0.66        2.2            0.074    \n",
       "1260  6.8          0.640            0.00        2.7            0.123    \n",
       "654   9.4          0.330            0.59        2.8            0.079    \n",
       "1410  6.0          0.510            0.00        2.1            0.064    \n",
       "1501  7.5          0.725            0.04        1.5            0.076    \n",
       "73    7.7          0.690            0.22        1.9            0.084    \n",
       "     free.sulfur.dioxide total.sulfur.dioxide density pH   sulphates alcohol\n",
       "460  10                  47                   1.00080 3.25 0.57       9.0   \n",
       "1260 15                  33                   0.99538 3.44 0.63      11.3   \n",
       "654   9                  30                   0.99760 3.12 0.54      12.0   \n",
       "1410 40                  54                   0.99500 3.54 0.93      10.7   \n",
       "1501  8                  15                   0.99508 3.26 0.53       9.6   \n",
       "73   18                  94                   0.99610 3.31 0.48       9.5   \n",
       "     quality\n",
       "460  3      \n",
       "1260 6      \n",
       "654  6      \n",
       "1410 6      \n",
       "1501 5      \n",
       "73   5      "
      ]
     },
     "metadata": {},
     "output_type": "display_data"
    },
    {
     "data": {
      "text/html": [
       "<table>\n",
       "<thead><tr><th></th><th scope=col>fixed.acidity</th><th scope=col>volatile.acidity</th><th scope=col>citric.acid</th><th scope=col>residual.sugar</th><th scope=col>chlorides</th><th scope=col>free.sulfur.dioxide</th><th scope=col>total.sulfur.dioxide</th><th scope=col>density</th><th scope=col>pH</th><th scope=col>sulphates</th><th scope=col>alcohol</th><th scope=col>quality</th></tr></thead>\n",
       "<tbody>\n",
       "\t<tr><th scope=row>6</th><td>7.4   </td><td>0.66  </td><td>0.00  </td><td>1.8   </td><td>0.075 </td><td>13    </td><td>40    </td><td>0.9978</td><td>3.51  </td><td>0.56  </td><td>9.4   </td><td>5     </td></tr>\n",
       "\t<tr><th scope=row>14</th><td>7.8   </td><td>0.61  </td><td>0.29  </td><td>1.6   </td><td>0.114 </td><td> 9    </td><td>29    </td><td>0.9974</td><td>3.26  </td><td>1.56  </td><td>9.1   </td><td>5     </td></tr>\n",
       "\t<tr><th scope=row>18</th><td>8.1   </td><td>0.56  </td><td>0.28  </td><td>1.7   </td><td>0.368 </td><td>16    </td><td>56    </td><td>0.9968</td><td>3.11  </td><td>1.28  </td><td>9.3   </td><td>5     </td></tr>\n",
       "\t<tr><th scope=row>23</th><td>7.9   </td><td>0.43  </td><td>0.21  </td><td>1.6   </td><td>0.106 </td><td>10    </td><td>37    </td><td>0.9966</td><td>3.17  </td><td>0.91  </td><td>9.5   </td><td>5     </td></tr>\n",
       "\t<tr><th scope=row>24</th><td>8.5   </td><td>0.49  </td><td>0.11  </td><td>2.3   </td><td>0.084 </td><td> 9    </td><td>67    </td><td>0.9968</td><td>3.17  </td><td>0.53  </td><td>9.4   </td><td>5     </td></tr>\n",
       "\t<tr><th scope=row>25</th><td>6.9   </td><td>0.40  </td><td>0.14  </td><td>2.4   </td><td>0.085 </td><td>21    </td><td>40    </td><td>0.9968</td><td>3.43  </td><td>0.63  </td><td>9.7   </td><td>6     </td></tr>\n",
       "</tbody>\n",
       "</table>\n"
      ],
      "text/latex": [
       "\\begin{tabular}{r|llllllllllll}\n",
       "  & fixed.acidity & volatile.acidity & citric.acid & residual.sugar & chlorides & free.sulfur.dioxide & total.sulfur.dioxide & density & pH & sulphates & alcohol & quality\\\\\n",
       "\\hline\n",
       "\t6 & 7.4    & 0.66   & 0.00   & 1.8    & 0.075  & 13     & 40     & 0.9978 & 3.51   & 0.56   & 9.4    & 5     \\\\\n",
       "\t14 & 7.8    & 0.61   & 0.29   & 1.6    & 0.114  &  9     & 29     & 0.9974 & 3.26   & 1.56   & 9.1    & 5     \\\\\n",
       "\t18 & 8.1    & 0.56   & 0.28   & 1.7    & 0.368  & 16     & 56     & 0.9968 & 3.11   & 1.28   & 9.3    & 5     \\\\\n",
       "\t23 & 7.9    & 0.43   & 0.21   & 1.6    & 0.106  & 10     & 37     & 0.9966 & 3.17   & 0.91   & 9.5    & 5     \\\\\n",
       "\t24 & 8.5    & 0.49   & 0.11   & 2.3    & 0.084  &  9     & 67     & 0.9968 & 3.17   & 0.53   & 9.4    & 5     \\\\\n",
       "\t25 & 6.9    & 0.40   & 0.14   & 2.4    & 0.085  & 21     & 40     & 0.9968 & 3.43   & 0.63   & 9.7    & 6     \\\\\n",
       "\\end{tabular}\n"
      ],
      "text/markdown": [
       "\n",
       "| <!--/--> | fixed.acidity | volatile.acidity | citric.acid | residual.sugar | chlorides | free.sulfur.dioxide | total.sulfur.dioxide | density | pH | sulphates | alcohol | quality | \n",
       "|---|---|---|---|---|---|\n",
       "| 6 | 7.4    | 0.66   | 0.00   | 1.8    | 0.075  | 13     | 40     | 0.9978 | 3.51   | 0.56   | 9.4    | 5      | \n",
       "| 14 | 7.8    | 0.61   | 0.29   | 1.6    | 0.114  |  9     | 29     | 0.9974 | 3.26   | 1.56   | 9.1    | 5      | \n",
       "| 18 | 8.1    | 0.56   | 0.28   | 1.7    | 0.368  | 16     | 56     | 0.9968 | 3.11   | 1.28   | 9.3    | 5      | \n",
       "| 23 | 7.9    | 0.43   | 0.21   | 1.6    | 0.106  | 10     | 37     | 0.9966 | 3.17   | 0.91   | 9.5    | 5      | \n",
       "| 24 | 8.5    | 0.49   | 0.11   | 2.3    | 0.084  |  9     | 67     | 0.9968 | 3.17   | 0.53   | 9.4    | 5      | \n",
       "| 25 | 6.9    | 0.40   | 0.14   | 2.4    | 0.085  | 21     | 40     | 0.9968 | 3.43   | 0.63   | 9.7    | 6      | \n",
       "\n",
       "\n"
      ],
      "text/plain": [
       "   fixed.acidity volatile.acidity citric.acid residual.sugar chlorides\n",
       "6  7.4           0.66             0.00        1.8            0.075    \n",
       "14 7.8           0.61             0.29        1.6            0.114    \n",
       "18 8.1           0.56             0.28        1.7            0.368    \n",
       "23 7.9           0.43             0.21        1.6            0.106    \n",
       "24 8.5           0.49             0.11        2.3            0.084    \n",
       "25 6.9           0.40             0.14        2.4            0.085    \n",
       "   free.sulfur.dioxide total.sulfur.dioxide density pH   sulphates alcohol\n",
       "6  13                  40                   0.9978  3.51 0.56      9.4    \n",
       "14  9                  29                   0.9974  3.26 1.56      9.1    \n",
       "18 16                  56                   0.9968  3.11 1.28      9.3    \n",
       "23 10                  37                   0.9966  3.17 0.91      9.5    \n",
       "24  9                  67                   0.9968  3.17 0.53      9.4    \n",
       "25 21                  40                   0.9968  3.43 0.63      9.7    \n",
       "   quality\n",
       "6  5      \n",
       "14 5      \n",
       "18 5      \n",
       "23 5      \n",
       "24 5      \n",
       "25 6      "
      ]
     },
     "metadata": {},
     "output_type": "display_data"
    }
   ],
   "source": [
    "set.seed(123) # to get the same random samples\n",
    "\n",
    "# sample the dataframe\n",
    "sample.data <- sample(1:nrow(df), 0.7*nrow(df), replace = FALSE)\n",
    "\n",
    "# randomly sampled data to be used as training data\n",
    "train.data <- df[sample.data,]\n",
    "head(train.data)\n",
    "\n",
    "# randomly sampled data to be used as testing data\n",
    "test.data <- df[-sample.data,]\n",
    "head(test.data)"
   ]
  },
  {
   "cell_type": "markdown",
   "metadata": {},
   "source": [
    "Now that we have taken samples of the data for training and testing, we are able to train/construct our linear regression model as follows:"
   ]
  },
  {
   "cell_type": "code",
   "execution_count": 12,
   "metadata": {
    "ExecuteTime": {
     "end_time": "2019-03-01T13:56:38.626806Z",
     "start_time": "2019-03-01T13:56:38.582Z"
    }
   },
   "outputs": [
    {
     "data": {
      "text/plain": [
       "\n",
       "Call:\n",
       "lm(formula = data$pH ~ data$fixed.acidity)\n",
       "\n",
       "Residuals:\n",
       "     Min       1Q   Median       3Q      Max \n",
       "-0.44574 -0.06372  0.00235  0.06503  0.52303 \n",
       "\n",
       "Coefficients:\n",
       "                    Estimate Std. Error t value Pr(>|t|)    \n",
       "(Intercept)         3.808509   0.016079  236.86   <2e-16 ***\n",
       "data$fixed.acidity -0.059545   0.001879  -31.69   <2e-16 ***\n",
       "---\n",
       "Signif. codes:  0 '***' 0.001 '**' 0.01 '*' 0.05 '.' 0.1 ' ' 1\n",
       "\n",
       "Residual standard error: 0.1107 on 1117 degrees of freedom\n",
       "Multiple R-squared:  0.4734,\tAdjusted R-squared:  0.4729 \n",
       "F-statistic:  1004 on 1 and 1117 DF,  p-value: < 2.2e-16\n"
      ]
     },
     "metadata": {},
     "output_type": "display_data"
    }
   ],
   "source": [
    "data <- train.data # we use the data variable for prediction purposes\n",
    "\n",
    "lr.model <- lm(data$pH ~ data$fixed.acidity)\n",
    "\n",
    "summary(lr.model)"
   ]
  },
  {
   "cell_type": "markdown",
   "metadata": {},
   "source": [
    "We then plot the regression line with our training data:"
   ]
  },
  {
   "cell_type": "code",
   "execution_count": 13,
   "metadata": {
    "ExecuteTime": {
     "end_time": "2019-03-01T13:56:46.287487Z",
     "start_time": "2019-03-01T13:56:46.181Z"
    }
   },
   "outputs": [
    {
     "data": {
      "image/png": "[encoded data removed]",
      "text/plain": [
       "Plot with title \"Regression Line vs Training Data\""
      ]
     },
     "metadata": {},
     "output_type": "display_data"
    }
   ],
   "source": [
    "plot(data$fixed.acidity, data$pH, xlab = \"Fixed Acidity\", ylab = \"PH\", main = \"Regression Line vs Training Data\")\n",
    "abline(lr.model, col = \"red\")"
   ]
  },
  {
   "cell_type": "markdown",
   "metadata": {},
   "source": [
    "Having trained the model, we now have to predict the new values:"
   ]
  },
  {
   "cell_type": "code",
   "execution_count": 14,
   "metadata": {
    "ExecuteTime": {
     "end_time": "2019-03-01T13:56:49.360741Z",
     "start_time": "2019-03-01T13:56:49.326Z"
    }
   },
   "outputs": [
    {
     "data": {
      "text/html": [
       "<table>\n",
       "<thead><tr><th></th><th scope=col>True Values</th><th scope=col>Predicted Values</th></tr></thead>\n",
       "<tbody>\n",
       "\t<tr><th scope=row>1</th><td>3.51    </td><td>3.367875</td></tr>\n",
       "\t<tr><th scope=row>2</th><td>3.26    </td><td>3.344057</td></tr>\n",
       "\t<tr><th scope=row>3</th><td>3.11    </td><td>3.326194</td></tr>\n",
       "\t<tr><th scope=row>4</th><td>3.17    </td><td>3.338103</td></tr>\n",
       "\t<tr><th scope=row>5</th><td>3.17    </td><td>3.302375</td></tr>\n",
       "\t<tr><th scope=row>6</th><td>3.43    </td><td>3.397648</td></tr>\n",
       "\t<tr><th scope=row>7</th><td>3.34    </td><td>3.433375</td></tr>\n",
       "\t<tr><th scope=row>8</th><td>3.38    </td><td>3.344057</td></tr>\n",
       "\t<tr><th scope=row>9</th><td>3.17    </td><td>3.314285</td></tr>\n",
       "\t<tr><th scope=row>10</th><td>3.38    </td><td>3.498874</td></tr>\n",
       "</tbody>\n",
       "</table>\n"
      ],
      "text/latex": [
       "\\begin{tabular}{r|ll}\n",
       "  & True Values & Predicted Values\\\\\n",
       "\\hline\n",
       "\t1 & 3.51     & 3.367875\\\\\n",
       "\t2 & 3.26     & 3.344057\\\\\n",
       "\t3 & 3.11     & 3.326194\\\\\n",
       "\t4 & 3.17     & 3.338103\\\\\n",
       "\t5 & 3.17     & 3.302375\\\\\n",
       "\t6 & 3.43     & 3.397648\\\\\n",
       "\t7 & 3.34     & 3.433375\\\\\n",
       "\t8 & 3.38     & 3.344057\\\\\n",
       "\t9 & 3.17     & 3.314285\\\\\n",
       "\t10 & 3.38     & 3.498874\\\\\n",
       "\\end{tabular}\n"
      ],
      "text/markdown": [
       "\n",
       "| <!--/--> | True Values | Predicted Values | \n",
       "|---|---|---|---|---|---|---|---|---|---|\n",
       "| 1 | 3.51     | 3.367875 | \n",
       "| 2 | 3.26     | 3.344057 | \n",
       "| 3 | 3.11     | 3.326194 | \n",
       "| 4 | 3.17     | 3.338103 | \n",
       "| 5 | 3.17     | 3.302375 | \n",
       "| 6 | 3.43     | 3.397648 | \n",
       "| 7 | 3.34     | 3.433375 | \n",
       "| 8 | 3.38     | 3.344057 | \n",
       "| 9 | 3.17     | 3.314285 | \n",
       "| 10 | 3.38     | 3.498874 | \n",
       "\n",
       "\n"
      ],
      "text/plain": [
       "   True Values Predicted Values\n",
       "1  3.51        3.367875        \n",
       "2  3.26        3.344057        \n",
       "3  3.11        3.326194        \n",
       "4  3.17        3.338103        \n",
       "5  3.17        3.302375        \n",
       "6  3.43        3.397648        \n",
       "7  3.34        3.433375        \n",
       "8  3.38        3.344057        \n",
       "9  3.17        3.314285        \n",
       "10 3.38        3.498874        "
      ]
     },
     "metadata": {},
     "output_type": "display_data"
    }
   ],
   "source": [
    "data <- test.data\n",
    "\n",
    "predictions <- predict(lr.model, data.frame(data$fixed.acidity))\n",
    "\n",
    "comparison <- cbind(head(data$pH, 10), head(predictions, 10))\n",
    "\n",
    "colnames(comparison) <- c(\"True Values\", \"Predicted Values\")\n",
    "\n",
    "comparison"
   ]
  }
 ],
 "metadata": {
  "kernelspec": {
   "display_name": "R",
   "language": "R",
   "name": "ir"
  },
  "language_info": {
   "codemirror_mode": "r",
   "file_extension": ".r",
   "mimetype": "text/x-r-source",
   "name": "R",
   "pygments_lexer": "r",
   "version": "3.5.1"
  },
  "latex_envs": {
   "LaTeX_envs_menu_present": true,
   "autoclose": false,
   "autocomplete": true,
   "bibliofile": "biblio.bib",
   "cite_by": "apalike",
   "current_citInitial": 1,
   "eqLabelWithNumbers": true,
   "eqNumInitial": 1,
   "hotkeys": {
    "equation": "Ctrl-E",
    "itemize": "Ctrl-I"
   },
   "labels_anchors": false,
   "latex_user_defs": false,
   "report_style_numbering": false,
   "user_envs_cfg": false
  },
  "toc": {
   "base_numbering": 1,
   "nav_menu": {},
   "number_sections": true,
   "sideBar": true,
   "skip_h1_title": false,
   "title_cell": "Table of Contents",
   "title_sidebar": "Contents",
   "toc_cell": false,
   "toc_position": {},
   "toc_section_display": true,
   "toc_window_display": false
  },
  "varInspector": {
   "cols": {
    "lenName": 16,
    "lenType": 16,
    "lenVar": 40
   },
   "kernels_config": {
    "python": {
     "delete_cmd_postfix": "",
     "delete_cmd_prefix": "del ",
     "library": "var_list.py",
     "varRefreshCmd": "print(var_dic_list())"
    },
    "r": {
     "delete_cmd_postfix": ") ",
     "delete_cmd_prefix": "rm(",
     "library": "var_list.r",
     "varRefreshCmd": "cat(var_dic_list()) "
    }
   },
   "types_to_exclude": [
    "module",
    "function",
    "builtin_function_or_method",
    "instance",
    "_Feature"
   ],
   "window_display": false
  }
 },
 "nbformat": 4,
 "nbformat_minor": 2
}

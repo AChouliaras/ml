{
 "cells": [
  {
   "cell_type": "markdown",
   "metadata": {},
   "source": [
    "# Lab 1 Python implementation\n",
    "\n",
    "### TEAM F\n",
    "Chouliarias Andreas 2143\n",
    "\n",
    "Matzoros Christos-Konstantinos 2169\n",
    "\n",
    "Pappas Apostolos 2109\n",
    "\n",
    "The section bellow imports the libraries we will use as well as the winequality-red.csv dataset that is about red wines."
   ]
  },
  {
   "cell_type": "code",
   "execution_count": 4,
   "metadata": {
    "ExecuteTime": {
     "end_time": "2019-03-01T13:18:52.487622Z",
     "start_time": "2019-03-01T13:18:52.476657Z"
    }
   },
   "outputs": [
    {
     "name": "stdout",
     "output_type": "stream",
     "text": [
      "(1599, 12)\n"
     ]
    }
   ],
   "source": [
    "# imports\n",
    "import pandas as pd\n",
    "import matplotlib.pyplot as plt\n",
    "from sklearn.linear_model import LinearRegression\n",
    "from sklearn.metrics import mean_squared_error, r2_score\n",
    "from sklearn.model_selection import train_test_split\n",
    "\n",
    "df = pd.read_csv('winequality-red.csv')\n",
    "print(df.shape)\n",
    "\n",
    "data = df"
   ]
  },
  {
   "cell_type": "markdown",
   "metadata": {},
   "source": [
    "We will select 'fixed acidity' and 'pH' features to implement the linear regression.<br>\n",
    "We split our dataframe to train set and test set with ratios 70-30 %.\n",
    "We prepare our dataframe to fit in our model."
   ]
  },
  {
   "cell_type": "code",
   "execution_count": 5,
   "metadata": {
    "ExecuteTime": {
     "end_time": "2019-03-01T13:18:53.678679Z",
     "start_time": "2019-03-01T13:18:53.672697Z"
    }
   },
   "outputs": [],
   "source": [
    "X = data['fixed acidity']\n",
    "y = data['pH']\n",
    "\n",
    "X_train, X_test, y_train, y_test = train_test_split( X, y, test_size=0.3, random_state=0) \n",
    "\n",
    "X_train=X_train.values.reshape(-1, 1) \n",
    "X_test=X_test.values.reshape(-1, 1)  \n",
    "y_train= y_train.values.reshape(-1, 1)  \n",
    "y_test= y_test.values.reshape(-1, 1)  "
   ]
  },
  {
   "cell_type": "markdown",
   "metadata": {},
   "source": [
    "We construct our Linear Regression model.\n",
    "We train the model with the train set and we make the plot."
   ]
  },
  {
   "cell_type": "code",
   "execution_count": 6,
   "metadata": {
    "ExecuteTime": {
     "end_time": "2019-03-01T13:18:54.676045Z",
     "start_time": "2019-03-01T13:18:54.540373Z"
    }
   },
   "outputs": [
    {
     "data": {
      "image/png": "[encoded data removed]",
      "text/plain": [
       "<Figure size 432x288 with 1 Axes>"
      ]
     },
     "metadata": {
      "needs_background": "light"
     },
     "output_type": "display_data"
    }
   ],
   "source": [
    "linreg = LinearRegression()\n",
    "linreg.fit(X_train,y_train)\n",
    "\n",
    "ypredict = linreg.predict(X_test)\n",
    "\n",
    "plt.plot(X_train, y_train ,'bo')\n",
    "plt.plot(X_test, ypredict, \"r-\")\n",
    "plt.xlabel(r'$Fixed Acidity$')\n",
    "plt.ylabel(r'$pH$')\n",
    "plt.title(r'Scikit-learn linear regression ')\n",
    "plt.show()"
   ]
  },
  {
   "cell_type": "markdown",
   "metadata": {},
   "source": [
    "The plot depicts with red the regression line.<br>\n",
    "The plot depicts with blue dots each instance of the dataset.\n",
    "\n",
    "We make predictions with our train set to calulate:<br>\n",
    "The Coefficients, The Intercept, The MSE and The $R^2$."
   ]
  },
  {
   "cell_type": "code",
   "execution_count": 9,
   "metadata": {
    "ExecuteTime": {
     "end_time": "2019-03-01T13:21:21.698687Z",
     "start_time": "2019-03-01T13:21:21.692703Z"
    }
   },
   "outputs": [
    {
     "name": "stdout",
     "output_type": "stream",
     "text": [
      "Coefficient beta :  [[-0.05966862]]\n",
      "The intercept alpha:  [3.80663914]\n",
      "Mean squared error: 0.01\n",
      "R-squared score: 0.45\n"
     ]
    }
   ],
   "source": [
    "ypredict = linreg.predict(X_train)\n",
    "\n",
    "print('Coefficient beta : ', linreg.coef_)\n",
    "print('The intercept alpha: ', linreg.intercept_)\n",
    "\n",
    "# The mean squared error                               \n",
    "print(\"Mean squared error: %.2f\" % mean_squared_error(y_train, ypredict))\n",
    "\n",
    "# Explained variance score: 1 is perfect prediction                                 \n",
    "print('R-squared score: %.2f' % r2_score(y_train, ypredict))\n"
   ]
  }
 ],
 "metadata": {
  "kernelspec": {
   "display_name": "Python 3",
   "language": "python",
   "name": "python3"
  },
  "language_info": {
   "codemirror_mode": {
    "name": "ipython",
    "version": 3
   },
   "file_extension": ".py",
   "mimetype": "text/x-python",
   "name": "python",
   "nbconvert_exporter": "python",
   "pygments_lexer": "ipython3",
   "version": "3.6.8"
  },
  "latex_envs": {
   "LaTeX_envs_menu_present": true,
   "autoclose": false,
   "autocomplete": true,
   "bibliofile": "biblio.bib",
   "cite_by": "apalike",
   "current_citInitial": 1,
   "eqLabelWithNumbers": true,
   "eqNumInitial": 1,
   "hotkeys": {
    "equation": "Ctrl-E",
    "itemize": "Ctrl-I"
   },
   "labels_anchors": false,
   "latex_user_defs": false,
   "report_style_numbering": false,
   "user_envs_cfg": false
  },
  "toc": {
   "base_numbering": 1,
   "nav_menu": {},
   "number_sections": true,
   "sideBar": true,
   "skip_h1_title": false,
   "title_cell": "Table of Contents",
   "title_sidebar": "Contents",
   "toc_cell": false,
   "toc_position": {},
   "toc_section_display": true,
   "toc_window_display": false
  },
  "varInspector": {
   "cols": {
    "lenName": 16,
    "lenType": 16,
    "lenVar": 40
   },
   "kernels_config": {
    "python": {
     "delete_cmd_postfix": "",
     "delete_cmd_prefix": "del ",
     "library": "var_list.py",
     "varRefreshCmd": "print(var_dic_list())"
    },
    "r": {
     "delete_cmd_postfix": ") ",
     "delete_cmd_prefix": "rm(",
     "library": "var_list.r",
     "varRefreshCmd": "cat(var_dic_list()) "
    }
   },
   "types_to_exclude": [
    "module",
    "function",
    "builtin_function_or_method",
    "instance",
    "_Feature"
   ],
   "window_display": false
  }
 },
 "nbformat": 4,
 "nbformat_minor": 2
}

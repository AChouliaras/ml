{
 "cells": [
  {
   "cell_type": "markdown",
   "metadata": {},
   "source": [
    "# HOMEWORK 2 - BEGINNERS\n",
    "\n",
    "##### TEAM F\n",
    "Chouliarias Andreas 2143\n",
    "\n",
    "Matzoros Christos-Konstantinos 2169\n",
    "\n",
    "Pappas Apostolos 2109\n",
    "\n",
    "\n",
    "## Exercise 1: Simple Linear Regression\n",
    "\n",
    "The predict_sales and cost_function functions were given and they are implemented as:"
   ]
  },
  {
   "cell_type": "code",
   "execution_count": 21,
   "metadata": {
    "ExecuteTime": {
     "end_time": "2019-03-03T10:56:26.719624Z",
     "start_time": "2019-03-03T10:56:26.714608Z"
    }
   },
   "outputs": [],
   "source": [
    "# imports\n",
    "import pandas as pd\n",
    "\n",
    "def predict_sales(radio, weight, bias):\n",
    "    return weight*radio + bias\n",
    "\n",
    "def cost_function(radio, sales, weight, bias):\n",
    "    companies = len(radio)\n",
    "    total_error = 0.0\n",
    "    \n",
    "    for i in range(companies):\n",
    "        total_error += (sales[i] - (weight*radio[i] + bias))**2\n",
    "    return total_error / companies"
   ]
  },
  {
   "cell_type": "markdown",
   "metadata": {},
   "source": [
    "The function update_weights was given and is based on the simple gradient descent algorith."
   ]
  },
  {
   "cell_type": "code",
   "execution_count": 22,
   "metadata": {
    "ExecuteTime": {
     "end_time": "2019-03-03T10:56:30.281288Z",
     "start_time": "2019-03-03T10:56:30.275343Z"
    }
   },
   "outputs": [],
   "source": [
    "def update_weights(radio, sales, weight, bias, learning_rate):\n",
    "    weight_deriv = 0\n",
    "    bias_deriv = 0\n",
    "    companies = len(radio)\n",
    "\n",
    "    for i in range(companies):\n",
    "        # Calculate partial derivatives\n",
    "        # -2x(y - (mx + b))\n",
    "        weight_deriv += -2*radio[i] * (sales[i] - (weight*radio[i] + bias))\n",
    "\n",
    "        # -2(y - (mx + b))\n",
    "        bias_deriv += -2*(sales[i] - (weight*radio[i] + bias))\n",
    "\n",
    "    # We subtract because the derivatives point in direction of steepest ascent\n",
    "    weight -= (weight_deriv / companies) * learning_rate\n",
    "    bias -= (bias_deriv / companies) * learning_rate\n",
    "\n",
    "    return weight, bias"
   ]
  },
  {
   "cell_type": "markdown",
   "metadata": {
    "ExecuteTime": {
     "end_time": "2019-03-03T10:19:41.211737Z",
     "start_time": "2019-03-03T10:19:41.206724Z"
    }
   },
   "source": [
    "The train function was modified to produce the requested output format."
   ]
  },
  {
   "cell_type": "code",
   "execution_count": 23,
   "metadata": {
    "ExecuteTime": {
     "end_time": "2019-03-03T10:56:31.476086Z",
     "start_time": "2019-03-03T10:56:31.471098Z"
    }
   },
   "outputs": [],
   "source": [
    "def train(radio, sales, weight, bias, learning_rate, iters):\n",
    "    cost_history = []\n",
    "\n",
    "    for i in range(iters):\n",
    "        weight,bias = update_weights(radio, sales, weight, bias, learning_rate)\n",
    "\n",
    "        #Calculate cost for auditing purposes\n",
    "        cost = cost_function(radio, sales, weight, bias)\n",
    "        cost_history.append(cost)\n",
    "        \n",
    "        # Log Progress\n",
    "        if (i % 10 == 0 or i==1):\n",
    "            print (\"iter: %-2i\" %i + \" weight: %.2f\" %weight + \" bias: %.4f\" %bias + \" cost: %.2f\" %cost)\n",
    "    return weight, bias, cost_history"
   ]
  },
  {
   "cell_type": "markdown",
   "metadata": {},
   "source": [
    "This is the part where we construct our model.<br>\n",
    "We import the dataset,<br>\n",
    "We split the data we will need to seperate variables,<br>\n",
    "We initialize the weights and bias,<br>\n",
    "We set the learning rate and the number of iterations for the train function.<br>"
   ]
  },
  {
   "cell_type": "code",
   "execution_count": 24,
   "metadata": {
    "ExecuteTime": {
     "end_time": "2019-03-03T10:56:32.600102Z",
     "start_time": "2019-03-03T10:56:32.561186Z"
    }
   },
   "outputs": [
    {
     "name": "stdout",
     "output_type": "stream",
     "text": [
      "iter: 0  weight: 0.04 bias: 0.0014 cost: 198.27\n",
      "iter: 1  weight: 0.07 bias: 0.0027 cost: 176.40\n",
      "iter: 10 weight: 0.28 bias: 0.0114 cost: 77.03\n",
      "iter: 20 weight: 0.39 bias: 0.0174 cost: 50.45\n",
      "iter: 30 weight: 0.44 bias: 0.0216 cost: 44.61\n",
      "iter: 40 weight: 0.46 bias: 0.0249 cost: 43.32\n"
     ]
    }
   ],
   "source": [
    "df = pd.read_csv('Advertising.csv')\n",
    "#print(df.shape)\n",
    "\n",
    "companies = df['company'].values\n",
    "radio = df['radio'].values\n",
    "sales = df['sales'].values\n",
    "weight = 0.0\n",
    "bias   = 0.0001\n",
    "\n",
    "learning_rate=0.000048\n",
    "iters = 41\n",
    "\n",
    "train(radio, sales, weight, bias, learning_rate, iters);\n"
   ]
  },
  {
   "cell_type": "markdown",
   "metadata": {},
   "source": [
    "Based on the previous output, we came to the conclusion that the linear relationship between sales and radio is: \n",
    "\n",
    "$$Sales = 0.46*Radio + 0.0249$$\n",
    "\n",
    "## Exercise 2: Multivariable regression\n",
    "\n",
    "In the following piece of code, we have the normalization function. We normalize our data using the followin formula:\n",
    "\n",
    "$$ \\frac{x - μ}{x_{max} - x_{min}}$$ ,where $x_{max} - x_{min}$ is the range."
   ]
  },
  {
   "cell_type": "code",
   "execution_count": 25,
   "metadata": {
    "ExecuteTime": {
     "end_time": "2019-03-03T10:56:34.107796Z",
     "start_time": "2019-03-03T10:56:34.101798Z"
    }
   },
   "outputs": [],
   "source": [
    "# imports\n",
    "import pandas as pd\n",
    "import numpy as np\n",
    "\n",
    "def normalize(features):\n",
    "    '''\n",
    "    features     -   (200, 4)\n",
    "    features.T   -   (4, 200)\n",
    "\n",
    "    We transpose the input matrix, swapping\n",
    "    cols and rows to make vector math easier\n",
    "    '''\n",
    "\n",
    "    for feature in features.T:\n",
    "        fmean = np.mean(feature)\n",
    "        frange = np.amax(feature) - np.amin(feature)\n",
    "\n",
    "        #Vector Subtraction\n",
    "        feature -= fmean\n",
    "\n",
    "        #Vector Division\n",
    "        feature /= frange\n",
    "\n",
    "    return features"
   ]
  },
  {
   "cell_type": "markdown",
   "metadata": {},
   "source": [
    "Following, we present the predict and cost functions. We use the Mean Squared Error as our cost function:\n",
    "\n",
    "$$MSE =  \\frac{1}{N} \\sum_{i=1}^{n} (y_i - (m x_i + b))^2$$\n"
   ]
  },
  {
   "cell_type": "code",
   "execution_count": 26,
   "metadata": {
    "ExecuteTime": {
     "end_time": "2019-03-03T10:56:35.322704Z",
     "start_time": "2019-03-03T10:56:35.317716Z"
    }
   },
   "outputs": [],
   "source": [
    "def predict(features, weights):\n",
    "  '''\n",
    "  features - (200, 4)\n",
    "  weights - (4, 1)\n",
    "  predictions - (200,1)\n",
    "  '''\n",
    "  return np.dot(features,weights)\n",
    "\n",
    "def cost_function(features, targets, weights):\n",
    "    \n",
    "    #Features:(200,4)\n",
    "    #Targets: (200,1)\n",
    "    #Weights:(4,1)\n",
    "    #Returns 1D matrix of predictions\n",
    "    \n",
    "    N = len(targets)\n",
    "\n",
    "    predictions = predict(features, weights)\n",
    "\n",
    "    # Matrix math lets use do this without looping\n",
    "    sq_error = (predictions - targets)**2\n",
    "\n",
    "    # Return average squared error among predictions\n",
    "    return 1.0/(2*N) * sq_error.sum()"
   ]
  },
  {
   "cell_type": "markdown",
   "metadata": {},
   "source": [
    "The next step is to update our weights using the vectorized weight update function:"
   ]
  },
  {
   "cell_type": "code",
   "execution_count": 27,
   "metadata": {
    "ExecuteTime": {
     "end_time": "2019-03-03T10:56:36.634126Z",
     "start_time": "2019-03-03T10:56:36.629167Z"
    }
   },
   "outputs": [],
   "source": [
    "def update_weights_vectorized(X, targets, weights, lr):\n",
    "    '''\n",
    "    gradient = X.T * (predictions - targets) / N\n",
    "    X: (200, 4)\n",
    "    Targets: (200, 1)\n",
    "    Weights: (4, 1)\n",
    "    '''\n",
    "    companies = len(X)\n",
    "\n",
    "    #1 - Get Predictions\n",
    "    predictions = predict(X, weights)\n",
    "    #2 - Calculate error/loss\n",
    "    error = targets - predictions\n",
    "    #3 Transpose features from (200, 3) to (3, 200)\n",
    "    # So we can multiply w the (200,1)  error matrix.\n",
    "    # Returns a (3,1) matrix holding 3 partial derivatives --\n",
    "    # one for each feature -- representing the aggregate\n",
    "    # slope of the cost function across all observations\n",
    "    gradient = np.dot(-X.T,  error)\n",
    "\n",
    "    #4 Take the average error derivative for each feature\n",
    "    gradient /= companies\n",
    "\n",
    "    #5 - Multiply the gradient by our learning rate\n",
    "    gradient *= lr\n",
    "    \n",
    "    #6 - Subtract from our weights to minimize cost\n",
    "    weights -= gradient\n",
    "\n",
    "    return weights"
   ]
  },
  {
   "cell_type": "markdown",
   "metadata": {},
   "source": [
    "We implemented the training function based on the previous training function, modifying it to match our problem.<br>\n",
    "We present the updated parameters every 1000 iterations:"
   ]
  },
  {
   "cell_type": "code",
   "execution_count": 28,
   "metadata": {
    "ExecuteTime": {
     "end_time": "2019-03-03T10:56:38.926751Z",
     "start_time": "2019-03-03T10:56:38.920755Z"
    }
   },
   "outputs": [],
   "source": [
    "def train(features, targets, weights, lr, iters):\n",
    "    cost_history = []\n",
    "\n",
    "    for i in range(iters+1):\n",
    "        weights = update_weights_vectorized(features, targets, weights, lr)\n",
    "\n",
    "        #Calculate cost for auditing purposes\n",
    "        cost = cost_function(features, targets, weights)\n",
    "        cost_history.append(cost)\n",
    "        \n",
    "        # Log Progress\n",
    "        if (i % 1000 == 0 or i==1):\n",
    "            print (\"iter: %-5i\"         %i + \n",
    "                   \" weights: TV: %.2f\" %weights[1] + \n",
    "                   \" radio: %.2f\"       %weights[2] + \n",
    "                   \" newspaper: %.2f\"   %weights[3] + \n",
    "                   \" bias: %.4f\"        %weights[0] + \n",
    "                   \" cost: %.2f\"        %cost)\n",
    "            \n",
    "    return weights, bias, cost_history\n"
   ]
  },
  {
   "cell_type": "markdown",
   "metadata": {},
   "source": [
    "This is the part where we construct our model.<br>\n",
    "We import the dataset,<br>\n",
    "We split the data we will need to seperate variables,<br>\n",
    "We initialize the weights and bias,<br>\n",
    "We set the learning rate and the number of iterations for the train function.<br>"
   ]
  },
  {
   "cell_type": "code",
   "execution_count": 29,
   "metadata": {
    "ExecuteTime": {
     "end_time": "2019-03-03T10:56:41.052822Z",
     "start_time": "2019-03-03T10:56:40.867318Z"
    }
   },
   "outputs": [
    {
     "name": "stdout",
     "output_type": "stream",
     "text": [
      "iter: 0     weights: TV: 0.00 radio: 0.00 newspaper: 0.00 bias: 0.0070 cost: 111.76\n",
      "iter: 1     weights: TV: 0.00 radio: 0.00 newspaper: 0.00 bias: 0.0140 cost: 111.66\n",
      "iter: 1000  weights: TV: 0.58 radio: 0.44 newspaper: 0.11 bias: 5.5227 cost: 48.59\n",
      "iter: 2000  weights: TV: 1.13 radio: 0.85 newspaper: 0.21 bias: 8.8678 cost: 24.78\n",
      "iter: 3000  weights: TV: 1.66 radio: 1.25 newspaper: 0.31 bias: 10.8964 cost: 15.49\n",
      "iter: 4000  weights: TV: 2.16 radio: 1.62 newspaper: 0.40 bias: 12.1267 cost: 11.60\n",
      "iter: 5000  weights: TV: 2.65 radio: 1.98 newspaper: 0.48 bias: 12.8728 cost: 9.72\n",
      "iter: 6000  weights: TV: 3.11 radio: 2.32 newspaper: 0.56 bias: 13.3252 cost: 8.63\n",
      "iter: 7000  weights: TV: 3.55 radio: 2.64 newspaper: 0.63 bias: 13.5996 cost: 7.87\n",
      "iter: 8000  weights: TV: 3.98 radio: 2.95 newspaper: 0.70 bias: 13.7661 cost: 7.25\n",
      "iter: 9000  weights: TV: 4.38 radio: 3.24 newspaper: 0.76 bias: 13.8670 cost: 6.72\n",
      "iter: 10000 weights: TV: 4.77 radio: 3.52 newspaper: 0.82 bias: 13.9282 cost: 6.25\n"
     ]
    }
   ],
   "source": [
    "df = pd.read_csv('Advertising.csv')\n",
    "#print(df.shape)\n",
    "\n",
    "features = df[['TV', 'radio' , 'newspaper']]\n",
    "features = normalize(features.values)\n",
    "targets = df['sales'].values.reshape(-1, 1) \n",
    "\n",
    "B  = 0.0\n",
    "W1 = 0.0\n",
    "W2 = 0.0\n",
    "W3 = 0.0\n",
    "weights = np.array([\n",
    "    [B ],   \n",
    "    [W1],\n",
    "    [W2],\n",
    "    [W3]\n",
    "])\n",
    "\n",
    "bias = np.ones(shape=(len(features),1))\n",
    "features = np.append(bias, features, axis=1)\n",
    "\n",
    "lr = 0.0005\n",
    "iters = 10000\n",
    "\n",
    "train(features, targets, weights, lr, iters);"
   ]
  },
  {
   "cell_type": "markdown",
   "metadata": {},
   "source": [
    "After training our model through 10000 iterations with a learning rate of\n",
    ".0005, we finally arrive at a set of weights we can use to make\n",
    "predictions:\n",
    "\n",
    "$$Sales = 4.77TV + 3.52Radio + 0.82Newspaper + 13.9282$$\n",
    "\n",
    "Our MSE cost dropped to 6.25.\n"
   ]
  }
 ],
 "metadata": {
  "kernelspec": {
   "display_name": "Python 3",
   "language": "python",
   "name": "python3"
  },
  "language_info": {
   "codemirror_mode": {
    "name": "ipython",
    "version": 3
   },
   "file_extension": ".py",
   "mimetype": "text/x-python",
   "name": "python",
   "nbconvert_exporter": "python",
   "pygments_lexer": "ipython3",
   "version": "3.7.1"
  },
  "latex_envs": {
   "LaTeX_envs_menu_present": true,
   "autoclose": false,
   "autocomplete": true,
   "bibliofile": "biblio.bib",
   "cite_by": "apalike",
   "current_citInitial": 1,
   "eqLabelWithNumbers": true,
   "eqNumInitial": 1,
   "hotkeys": {
    "equation": "Ctrl-E",
    "itemize": "Ctrl-I"
   },
   "labels_anchors": false,
   "latex_user_defs": false,
   "report_style_numbering": false,
   "user_envs_cfg": false
  },
  "toc": {
   "base_numbering": 1,
   "nav_menu": {},
   "number_sections": true,
   "sideBar": true,
   "skip_h1_title": false,
   "title_cell": "Table of Contents",
   "title_sidebar": "Contents",
   "toc_cell": false,
   "toc_position": {},
   "toc_section_display": true,
   "toc_window_display": false
  },
  "varInspector": {
   "cols": {
    "lenName": 16,
    "lenType": 16,
    "lenVar": 40
   },
   "kernels_config": {
    "python": {
     "delete_cmd_postfix": "",
     "delete_cmd_prefix": "del ",
     "library": "var_list.py",
     "varRefreshCmd": "print(var_dic_list())"
    },
    "r": {
     "delete_cmd_postfix": ") ",
     "delete_cmd_prefix": "rm(",
     "library": "var_list.r",
     "varRefreshCmd": "cat(var_dic_list()) "
    }
   },
   "types_to_exclude": [
    "module",
    "function",
    "builtin_function_or_method",
    "instance",
    "_Feature"
   ],
   "window_display": false
  }
 },
 "nbformat": 4,
 "nbformat_minor": 2
}

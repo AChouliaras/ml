{
 "cells": [
  {
   "cell_type": "markdown",
   "metadata": {},
   "source": [
    "# HOMEWORK 1 - BEGINNERS\n",
    "\n",
    "### TEAM F\n",
    "Chouliarias Andreas 2143\n",
    "\n",
    "Matzoros Christos-Konstantinos 2169\n",
    "\n",
    "Pappas Apostolos 2109\n",
    "\n",
    "\n",
    "## Exercise 2\n",
    "\n",
    "### Fitting the polynomial\n",
    "\n",
    "In Exercise 2, we first produce the dataset to be used (it will be a second-order polynomial). This is shown bellow:\n"
   ]
  },
  {
   "cell_type": "code",
   "execution_count": 23,
   "metadata": {},
   "outputs": [],
   "source": [
    "# Importing various packages\n",
    "import numpy as np\n",
    "import matplotlib.pyplot as plt\n",
    "from sklearn.linear_model import LinearRegression\n",
    "from sklearn.metrics import mean_squared_error, r2_score\n",
    "\n",
    "# Producing the dataset \n",
    "x = np.random.rand(100,1)\n",
    "y = 5*x*x + 0.1*np.random.randn(100,1) # Second-order polynomial"
   ]
  },
  {
   "cell_type": "markdown",
   "metadata": {},
   "source": [
    "Continuing, we compute the parametrization of the data set fitting a second-order\n",
    "polynomial using our own code:"
   ]
  },
  {
   "cell_type": "code",
   "execution_count": 25,
   "metadata": {},
   "outputs": [
    {
     "name": "stdout",
     "output_type": "stream",
     "text": [
      "Comparison between regression parameters with and without the use of sklearn:  \n",
      "\n",
      "(without sklearn)\n",
      " Intercept:   -0.78241863\n",
      " Slope:       4.97074536\n"
     ]
    },
    {
     "data": {
      "image/png": "[encoded data removed]",
      "text/plain": [
       "<Figure size 432x288 with 1 Axes>"
      ]
     },
     "metadata": {
      "needs_background": "light"
     },
     "output_type": "display_data"
    }
   ],
   "source": [
    "xb = np.c_[np.ones((100,1)), x]\n",
    "beta = np.linalg.inv(xb.T.dot(xb)).dot(xb.T).dot(y) # Regression parameters\n",
    "\n",
    "\n",
    "print(\"Comparison between regression parameters with and without the use of sklearn:  \\n\")\n",
    "temp = str(beta[0])\n",
    "print(\"(without sklearn)\\n Intercept:  \",temp.replace(\"[\", \"\").replace(\"]\", \"\"))\n",
    "temp = str(beta[1])\n",
    "print(\" Slope:      \", temp.replace(\"[\", \"\").replace(\"]\", \"\"))\n",
    "\n",
    "\n",
    "xnew = np.array([[0],[2]])\n",
    "xbnew = np.c_[np.ones((2,1)), xnew]\n",
    "ypredict = xbnew.dot(beta)\n",
    "\n",
    "plt.plot(xnew, ypredict, \"r-\")\n",
    "plt.plot(x, y ,'bo')\n",
    "plt.axis([0,1.2,-1, 6.0])\n",
    "plt.xlabel(r'$x$')\n",
    "plt.ylabel(r'$y$')\n",
    "plt.title(r'Simple Linear Regression')\n",
    "plt.show()\n"
   ]
  },
  {
   "cell_type": "markdown",
   "metadata": {},
   "source": [
    "We then use scikit-learn and compare its results to ours: "
   ]
  },
  {
   "cell_type": "code",
   "execution_count": 26,
   "metadata": {},
   "outputs": [
    {
     "name": "stdout",
     "output_type": "stream",
     "text": [
      "\n",
      " \n",
      "(with sklearn)\n",
      " Intercept:   -0.78241863\n",
      " Slope:       4.97074536\n"
     ]
    },
    {
     "data": {
      "image/png": "[encoded data removed]",
      "text/plain": [
       "<Figure size 432x288 with 1 Axes>"
      ]
     },
     "metadata": {
      "needs_background": "light"
     },
     "output_type": "display_data"
    }
   ],
   "source": [
    "linreg = LinearRegression()\n",
    "linreg.fit(x,y) # Fit the second-order polynomial\n",
    "\n",
    "temp = str(linreg.intercept_)\n",
    "print(\"\\n \\n(with sklearn)\\n Intercept:  \", temp.replace(\"[\", \"\").replace(\"]\", \"\"))\n",
    "temp = str(linreg.coef_)\n",
    "print(\" Slope:      \", temp.replace(\"[\", \"\").replace(\"]\", \"\"))\n",
    "\n",
    "xnew = np.array([[0],[2]])\n",
    "ypredict = linreg.predict(xnew)\n",
    "\n",
    "plt.plot(xnew, ypredict, \"r-\")\n",
    "plt.plot(x, y ,'bo')\n",
    "plt.axis([0,1.2,-1, 6.0])\n",
    "plt.xlabel(r'$x$')\n",
    "plt.ylabel(r'$y$')\n",
    "plt.title(r'Scikit-learn linear regression ')\n",
    "plt.show()"
   ]
  },
  {
   "cell_type": "markdown",
   "metadata": {},
   "source": [
    "### Reviewing the Regression model\n",
    "\n",
    "In order to review the Regression model constructed above, we can compute metrics and statistics such as the Mean Squared Error (MSE) and the r-squared.\n",
    "\n",
    "$$MSE(y, \\hat{y}) = \\frac{1}{n}\\sum_{i = 0}^{n-1}{(y_i - \\hat{y_i})^2}$$\n",
    "\n",
    "$$R^2(y, \\hat{y}) = 1 - \\frac{\\sum_{i = 0}^{n-1}{(y_i - \\hat{y_i})^2}}{\\sum_{i = 0}^{n-1}{(y_i - \\bar{y_i})^2}}$$\n",
    "\n",
    "Using the respectable scikit-learn functions, we compute the above statistics:"
   ]
  },
  {
   "cell_type": "code",
   "execution_count": 27,
   "metadata": {},
   "outputs": [
    {
     "name": "stdout",
     "output_type": "stream",
     "text": [
      "\n",
      "Mean squared error: 0.15\n",
      "\n",
      "R-squared: 0.93\n"
     ]
    }
   ],
   "source": [
    "ypredict = linreg.predict(x)\n",
    "\n",
    "print(\"\\nMean squared error: %.2f\" % mean_squared_error(y, ypredict))\n",
    "print(\"\\nR-squared: %.2f\" % r2_score(y, ypredict))"
   ]
  },
  {
   "cell_type": "markdown",
   "metadata": {},
   "source": [
    "The Mean Squared Error is the average squared difference between the target values and what is estimated.<br> A small MSE means that the estimated values are close to the true ones.\n",
    "\n",
    "The $R^2$ value, or the Coefficient of Determination, is the portion of the total variation in the dependent variable that is explained by variation in the independent variable. In other words, it shows us how well the indepedent variable explains the dependent one.<br> A big $R^2$ value, means that our model succeeds in explaining the depedent variable.\n",
    "\n",
    "## Exercise 3\n",
    "\n",
    "For the needs of the third exercise, we need to show the following:\n",
    "$$Var(\\hat{β}) = (\\hat{X}^T \\hat{X})^{-1}σ^2$$\n",
    "\n",
    "It is proven that $\\hat{β} = (\\hat{X}^T \\hat{X})^{-1} Χ^Τy$. It is also proven that:\n",
    "\n",
    "$$ Var(AX) =$$\n",
    "\n",
    "$$ E[A(X-μ)(Α(Χ-μ))^T] =$$\n",
    "\n",
    "$$ E[A(X-μ)(Χ-μ)^TA^T] =$$\n",
    "\n",
    "$$ AE[(X-μ)(Χ-μ)^T]A^T =$$\n",
    "\n",
    "$$AVar(X)A^T$$\n",
    "\n",
    "Where A is a $k*l$ constant matrix.\n",
    "\n",
    "$$ Var(\\hat{β}) =$$\n",
    "\n",
    "$$ Var((\\hat{X}^T \\hat{X})^{-1} Χ^Τy) =$$\n",
    "\n",
    "$$ (\\hat{X}^T \\hat{X})^{-1} Χ^Τ Var(y) [(\\hat{X}^T \\hat{X})^{-1} Χ^Τ]^T =$$\n",
    "\n",
    "We know that $Var(y) = σ^2, thus: $\n",
    "\n",
    "$$ (\\hat{X}^T \\hat{X})^{-1} \\hat{Χ}^Τ σ^2 [(\\hat{X}^T \\hat{X})^{-1} \\hat{Χ}^Τ]^T =$$\n",
    "\n",
    "$$ (\\hat{X}^T \\hat{X})^{-1} \\hat{Χ}^Τ [(\\hat{X}^T \\hat{X})^{-1} \\hat{Χ}^Τ]^Tσ^2 =$$\n",
    "\n",
    "$$ (\\hat{X}^T \\hat{X})^{-1} \\hat{Χ}^Τ \\hat{X}(\\hat{X}^T \\hat{X})^{-1}σ^2 =$$\n",
    "\n",
    "$$ (\\hat{X}^T \\hat{X})^{-1}σ^2$$"
   ]
  },
  {
   "cell_type": "code",
   "execution_count": null,
   "metadata": {},
   "outputs": [],
   "source": []
  }
 ],
 "metadata": {
  "kernelspec": {
   "display_name": "Python 3",
   "language": "python",
   "name": "python3"
  },
  "language_info": {
   "codemirror_mode": {
    "name": "ipython",
    "version": 3
   },
   "file_extension": ".py",
   "mimetype": "text/x-python",
   "name": "python",
   "nbconvert_exporter": "python",
   "pygments_lexer": "ipython3",
   "version": "3.7.1"
  },
  "latex_envs": {
   "LaTeX_envs_menu_present": true,
   "autoclose": false,
   "autocomplete": true,
   "bibliofile": "biblio.bib",
   "cite_by": "apalike",
   "current_citInitial": 1,
   "eqLabelWithNumbers": true,
   "eqNumInitial": 1,
   "hotkeys": {
    "equation": "Ctrl-E",
    "itemize": "Ctrl-I"
   },
   "labels_anchors": false,
   "latex_user_defs": false,
   "report_style_numbering": false,
   "user_envs_cfg": false
  },
  "toc": {
   "base_numbering": 1,
   "nav_menu": {},
   "number_sections": true,
   "sideBar": true,
   "skip_h1_title": false,
   "title_cell": "Table of Contents",
   "title_sidebar": "Contents",
   "toc_cell": false,
   "toc_position": {},
   "toc_section_display": true,
   "toc_window_display": false
  },
  "varInspector": {
   "cols": {
    "lenName": 16,
    "lenType": 16,
    "lenVar": 40
   },
   "kernels_config": {
    "python": {
     "delete_cmd_postfix": "",
     "delete_cmd_prefix": "del ",
     "library": "var_list.py",
     "varRefreshCmd": "print(var_dic_list())"
    },
    "r": {
     "delete_cmd_postfix": ") ",
     "delete_cmd_prefix": "rm(",
     "library": "var_list.r",
     "varRefreshCmd": "cat(var_dic_list()) "
    }
   },
   "types_to_exclude": [
    "module",
    "function",
    "builtin_function_or_method",
    "instance",
    "_Feature"
   ],
   "window_display": false
  }
 },
 "nbformat": 4,
 "nbformat_minor": 2
}
